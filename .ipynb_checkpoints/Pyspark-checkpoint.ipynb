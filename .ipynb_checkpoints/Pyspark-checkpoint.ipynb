{
 "cells": [
  {
   "cell_type": "code",
   "execution_count": 1,
   "metadata": {},
   "outputs": [],
   "source": [
    "from pyspark.sql import SparkSession\n",
    "import pyspark.sql.functions as F\n",
    "# Crear una SparkSession\n",
    "spark = SparkSession.builder \\\n",
    "    .appName(\"ejemplo\") \\\n",
    "    .config(\"spark.sql.repl.eagerEval.enabled\", True) \\\n",
    "    .getOrCreate()"
   ]
  },
  {
   "cell_type": "code",
   "execution_count": 2,
   "metadata": {},
   "outputs": [
    {
     "data": {
      "text/html": [
       "<table border='1'>\n",
       "<tr><th>nom</th><th>id</th><th>date</th><th>sexe</th></tr>\n",
       "<tr><td>Jean</td><td>1234</td><td>2023-01-01</td><td>Homme</td></tr>\n",
       "<tr><td>Marie</td><td>9876</td><td>2023-02-15</td><td>Femme</td></tr>\n",
       "<tr><td>Paul</td><td>1234</td><td>2023-03-10</td><td>Homme</td></tr>\n",
       "<tr><td>Lucie</td><td>1231</td><td>2023-04-05</td><td>Femme</td></tr>\n",
       "<tr><td>Pierre</td><td>4567</td><td>2023-05-20</td><td>Homme</td></tr>\n",
       "</table>\n"
      ],
      "text/plain": [
       "+------+----+----------+-----+\n",
       "|   nom|  id|      date| sexe|\n",
       "+------+----+----------+-----+\n",
       "|  Jean|1234|2023-01-01|Homme|\n",
       "| Marie|9876|2023-02-15|Femme|\n",
       "|  Paul|1234|2023-03-10|Homme|\n",
       "| Lucie|1231|2023-04-05|Femme|\n",
       "|Pierre|4567|2023-05-20|Homme|\n",
       "+------+----+----------+-----+"
      ]
     },
     "execution_count": 2,
     "metadata": {},
     "output_type": "execute_result"
    }
   ],
   "source": [
    "# Creation du Dataframe\n",
    "data = [\n",
    "    ('Jean', 1234, '2023-01-01', 'Homme'),\n",
    "    ('Marie', 9876, '2023-02-15', 'Femme'),\n",
    "    ('Paul', 1234, '2023-03-10', 'Homme'),\n",
    "    ('Lucie', 1231, '2023-04-05', 'Femme'),\n",
    "    ('Pierre', 4567, '2023-05-20', 'Homme')\n",
    "]\n",
    "\n",
    "columns = ['nom', 'id', 'date', 'sexe']\n",
    "\n",
    "df = spark.createDataFrame(data, columns)\n",
    "\n",
    "df"
   ]
  },
  {
   "cell_type": "code",
   "execution_count": 3,
   "metadata": {},
   "outputs": [
    {
     "data": {
      "text/html": [
       "<table border='1'>\n",
       "<tr><th>nom</th><th>id</th><th>date</th><th>sexe</th><th>valeur_constante</th></tr>\n",
       "<tr><td>Jean</td><td>1234</td><td>2023-01-01</td><td>Homme</td><td>1</td></tr>\n",
       "<tr><td>Marie</td><td>9876</td><td>2023-02-15</td><td>Femme</td><td>1</td></tr>\n",
       "<tr><td>Paul</td><td>1234</td><td>2023-03-10</td><td>Homme</td><td>1</td></tr>\n",
       "<tr><td>Lucie</td><td>1231</td><td>2023-04-05</td><td>Femme</td><td>1</td></tr>\n",
       "<tr><td>Pierre</td><td>4567</td><td>2023-05-20</td><td>Homme</td><td>1</td></tr>\n",
       "</table>\n"
      ],
      "text/plain": [
       "+------+----+----------+-----+----------------+\n",
       "|   nom|  id|      date| sexe|valeur_constante|\n",
       "+------+----+----------+-----+----------------+\n",
       "|  Jean|1234|2023-01-01|Homme|               1|\n",
       "| Marie|9876|2023-02-15|Femme|               1|\n",
       "|  Paul|1234|2023-03-10|Homme|               1|\n",
       "| Lucie|1231|2023-04-05|Femme|               1|\n",
       "|Pierre|4567|2023-05-20|Homme|               1|\n",
       "+------+----+----------+-----+----------------+"
      ]
     },
     "execution_count": 3,
     "metadata": {},
     "output_type": "execute_result"
    }
   ],
   "source": [
    "# 1. `lit`: Ajouter une colonne avec une valeur constante\n",
    "df = df.withColumn('valeur_constante', F.lit(1))\n",
    "\n",
    "df"
   ]
  },
  {
   "cell_type": "code",
   "execution_count": 4,
   "metadata": {},
   "outputs": [
    {
     "data": {
      "text/html": [
       "<table border='1'>\n",
       "<tr><th>nom</th><th>id</th><th>date</th><th>sexe</th><th>valeur_constante</th><th>longueur_nom</th></tr>\n",
       "<tr><td>Jean</td><td>1234</td><td>2023-01-01</td><td>Homme</td><td>1</td><td>Court</td></tr>\n",
       "<tr><td>Marie</td><td>9876</td><td>2023-02-15</td><td>Femme</td><td>1</td><td>Long</td></tr>\n",
       "<tr><td>Paul</td><td>1234</td><td>2023-03-10</td><td>Homme</td><td>1</td><td>Court</td></tr>\n",
       "<tr><td>Lucie</td><td>1231</td><td>2023-04-05</td><td>Femme</td><td>1</td><td>Long</td></tr>\n",
       "<tr><td>Pierre</td><td>4567</td><td>2023-05-20</td><td>Homme</td><td>1</td><td>Long</td></tr>\n",
       "</table>\n"
      ],
      "text/plain": [
       "+------+----+----------+-----+----------------+------------+\n",
       "|   nom|  id|      date| sexe|valeur_constante|longueur_nom|\n",
       "+------+----+----------+-----+----------------+------------+\n",
       "|  Jean|1234|2023-01-01|Homme|               1|       Court|\n",
       "| Marie|9876|2023-02-15|Femme|               1|        Long|\n",
       "|  Paul|1234|2023-03-10|Homme|               1|       Court|\n",
       "| Lucie|1231|2023-04-05|Femme|               1|        Long|\n",
       "|Pierre|4567|2023-05-20|Homme|               1|        Long|\n",
       "+------+----+----------+-----+----------------+------------+"
      ]
     },
     "execution_count": 4,
     "metadata": {},
     "output_type": "execute_result"
    }
   ],
   "source": [
    "# 2. `col` et `when`: Créer une colonne avec une condition\n",
    "df = df.withColumn('longueur_nom', F.when(F.length('nom') > 4, 'Long').otherwise('Court'))\n",
    "df\n"
   ]
  },
  {
   "cell_type": "code",
   "execution_count": 5,
   "metadata": {},
   "outputs": [
    {
     "data": {
      "text/html": [
       "<table border='1'>\n",
       "<tr><th>nom</th><th>id</th><th>date</th><th>sexe</th><th>valeur_constante</th><th>longueur_nom</th><th>nom_id</th></tr>\n",
       "<tr><td>Jean</td><td>1234</td><td>2023-01-01</td><td>Homme</td><td>1</td><td>Court</td><td>Jean_1234</td></tr>\n",
       "<tr><td>Marie</td><td>9876</td><td>2023-02-15</td><td>Femme</td><td>1</td><td>Long</td><td>Marie_9876</td></tr>\n",
       "<tr><td>Paul</td><td>1234</td><td>2023-03-10</td><td>Homme</td><td>1</td><td>Court</td><td>Paul_1234</td></tr>\n",
       "<tr><td>Lucie</td><td>1231</td><td>2023-04-05</td><td>Femme</td><td>1</td><td>Long</td><td>Lucie_1231</td></tr>\n",
       "<tr><td>Pierre</td><td>4567</td><td>2023-05-20</td><td>Homme</td><td>1</td><td>Long</td><td>Pierre_4567</td></tr>\n",
       "</table>\n"
      ],
      "text/plain": [
       "+------+----+----------+-----+----------------+------------+-----------+\n",
       "|   nom|  id|      date| sexe|valeur_constante|longueur_nom|     nom_id|\n",
       "+------+----+----------+-----+----------------+------------+-----------+\n",
       "|  Jean|1234|2023-01-01|Homme|               1|       Court|  Jean_1234|\n",
       "| Marie|9876|2023-02-15|Femme|               1|        Long| Marie_9876|\n",
       "|  Paul|1234|2023-03-10|Homme|               1|       Court|  Paul_1234|\n",
       "| Lucie|1231|2023-04-05|Femme|               1|        Long| Lucie_1231|\n",
       "|Pierre|4567|2023-05-20|Homme|               1|        Long|Pierre_4567|\n",
       "+------+----+----------+-----+----------------+------------+-----------+"
      ]
     },
     "execution_count": 5,
     "metadata": {},
     "output_type": "execute_result"
    }
   ],
   "source": [
    "# 3. `concat`: Combiner des colonnes en une seule chaîne\n",
    "df = df.withColumn('nom_id', F.concat(F.col('nom'), F.lit('_'), F.col('id')))\n",
    "df"
   ]
  },
  {
   "cell_type": "code",
   "execution_count": 6,
   "metadata": {},
   "outputs": [
    {
     "data": {
      "text/html": [
       "<table border='1'>\n",
       "<tr><th>nom</th><th>id</th><th>date</th><th>sexe</th><th>valeur_constante</th><th>longueur_nom</th><th>nom_id</th><th>mois</th><th>ann&eacute;e</th><th>trimestre</th></tr>\n",
       "<tr><td>Jean</td><td>1234</td><td>2023-01-01</td><td>Homme</td><td>1</td><td>Court</td><td>Jean_1234</td><td>1</td><td>2023</td><td>1</td></tr>\n",
       "<tr><td>Marie</td><td>9876</td><td>2023-02-15</td><td>Femme</td><td>1</td><td>Long</td><td>Marie_9876</td><td>2</td><td>2023</td><td>1</td></tr>\n",
       "<tr><td>Paul</td><td>1234</td><td>2023-03-10</td><td>Homme</td><td>1</td><td>Court</td><td>Paul_1234</td><td>3</td><td>2023</td><td>1</td></tr>\n",
       "<tr><td>Lucie</td><td>1231</td><td>2023-04-05</td><td>Femme</td><td>1</td><td>Long</td><td>Lucie_1231</td><td>4</td><td>2023</td><td>2</td></tr>\n",
       "<tr><td>Pierre</td><td>4567</td><td>2023-05-20</td><td>Homme</td><td>1</td><td>Long</td><td>Pierre_4567</td><td>5</td><td>2023</td><td>2</td></tr>\n",
       "</table>\n"
      ],
      "text/plain": [
       "+------+----+----------+-----+----------------+------------+-----------+----+-----+---------+\n",
       "|   nom|  id|      date| sexe|valeur_constante|longueur_nom|     nom_id|mois|année|trimestre|\n",
       "+------+----+----------+-----+----------------+------------+-----------+----+-----+---------+\n",
       "|  Jean|1234|2023-01-01|Homme|               1|       Court|  Jean_1234|   1| 2023|        1|\n",
       "| Marie|9876|2023-02-15|Femme|               1|        Long| Marie_9876|   2| 2023|        1|\n",
       "|  Paul|1234|2023-03-10|Homme|               1|       Court|  Paul_1234|   3| 2023|        1|\n",
       "| Lucie|1231|2023-04-05|Femme|               1|        Long| Lucie_1231|   4| 2023|        2|\n",
       "|Pierre|4567|2023-05-20|Homme|               1|        Long|Pierre_4567|   5| 2023|        2|\n",
       "+------+----+----------+-----+----------------+------------+-----------+----+-----+---------+"
      ]
     },
     "execution_count": 6,
     "metadata": {},
     "output_type": "execute_result"
    }
   ],
   "source": [
    "# 4. `month`, `year`, `quarter`: Extraire le mois, l'année et le trimestre\n",
    "df = df.withColumn('mois', F.month('date')) \\\n",
    "       .withColumn('année', F.year('date')) \\\n",
    "       .withColumn('trimestre', F.quarter('date'))\n",
    "df"
   ]
  },
  {
   "cell_type": "code",
   "execution_count": 7,
   "metadata": {},
   "outputs": [
    {
     "data": {
      "text/html": [
       "<table border='1'>\n",
       "<tr><th>nom</th><th>id</th><th>date</th><th>sexe</th><th>valeur_constante</th><th>longueur_nom</th><th>nom_id</th><th>mois</th><th>ann&eacute;e</th><th>trimestre</th><th>id_absolu</th><th>id_floor</th></tr>\n",
       "<tr><td>Jean</td><td>1234</td><td>2023-01-01</td><td>Homme</td><td>1</td><td>Court</td><td>Jean_1234</td><td>1</td><td>2023</td><td>1</td><td>1234</td><td>1</td></tr>\n",
       "<tr><td>Marie</td><td>9876</td><td>2023-02-15</td><td>Femme</td><td>1</td><td>Long</td><td>Marie_9876</td><td>2</td><td>2023</td><td>1</td><td>9876</td><td>9</td></tr>\n",
       "<tr><td>Paul</td><td>1234</td><td>2023-03-10</td><td>Homme</td><td>1</td><td>Court</td><td>Paul_1234</td><td>3</td><td>2023</td><td>1</td><td>1234</td><td>1</td></tr>\n",
       "<tr><td>Lucie</td><td>1231</td><td>2023-04-05</td><td>Femme</td><td>1</td><td>Long</td><td>Lucie_1231</td><td>4</td><td>2023</td><td>2</td><td>1231</td><td>1</td></tr>\n",
       "<tr><td>Pierre</td><td>4567</td><td>2023-05-20</td><td>Homme</td><td>1</td><td>Long</td><td>Pierre_4567</td><td>5</td><td>2023</td><td>2</td><td>4567</td><td>4</td></tr>\n",
       "</table>\n"
      ],
      "text/plain": [
       "+------+----+----------+-----+----------------+------------+-----------+----+-----+---------+---------+--------+\n",
       "|   nom|  id|      date| sexe|valeur_constante|longueur_nom|     nom_id|mois|année|trimestre|id_absolu|id_floor|\n",
       "+------+----+----------+-----+----------------+------------+-----------+----+-----+---------+---------+--------+\n",
       "|  Jean|1234|2023-01-01|Homme|               1|       Court|  Jean_1234|   1| 2023|        1|     1234|       1|\n",
       "| Marie|9876|2023-02-15|Femme|               1|        Long| Marie_9876|   2| 2023|        1|     9876|       9|\n",
       "|  Paul|1234|2023-03-10|Homme|               1|       Court|  Paul_1234|   3| 2023|        1|     1234|       1|\n",
       "| Lucie|1231|2023-04-05|Femme|               1|        Long| Lucie_1231|   4| 2023|        2|     1231|       1|\n",
       "|Pierre|4567|2023-05-20|Homme|               1|        Long|Pierre_4567|   5| 2023|        2|     4567|       4|\n",
       "+------+----+----------+-----+----------------+------------+-----------+----+-----+---------+---------+--------+"
      ]
     },
     "execution_count": 7,
     "metadata": {},
     "output_type": "execute_result"
    }
   ],
   "source": [
    "# 5. `abs` et `floor`: Appliquer des fonctions mathématiques\n",
    "df = df.withColumn('id_absolu', F.abs(F.col('id'))) \\\n",
    "       .withColumn('id_floor', F.floor(F.col('id') / 1000))\n",
    "df"
   ]
  },
  {
   "cell_type": "code",
   "execution_count": 8,
   "metadata": {},
   "outputs": [
    {
     "data": {
      "text/html": [
       "<table border='1'>\n",
       "<tr><th>nom</th><th>id</th><th>date</th><th>sexe</th><th>valeur_constante</th><th>longueur_nom</th><th>nom_id</th><th>mois</th><th>ann&eacute;e</th><th>trimestre</th><th>id_absolu</th><th>id_floor</th><th>concat_ws</th></tr>\n",
       "<tr><td>Jean</td><td>1234</td><td>2023-01-01</td><td>Homme</td><td>1</td><td>Court</td><td>Jean_1234</td><td>1</td><td>2023</td><td>1</td><td>1234</td><td>1</td><td>Jean:1234</td></tr>\n",
       "<tr><td>Marie</td><td>9876</td><td>2023-02-15</td><td>Femme</td><td>1</td><td>Long</td><td>Marie_9876</td><td>2</td><td>2023</td><td>1</td><td>9876</td><td>9</td><td>Marie:9876</td></tr>\n",
       "<tr><td>Paul</td><td>1234</td><td>2023-03-10</td><td>Homme</td><td>1</td><td>Court</td><td>Paul_1234</td><td>3</td><td>2023</td><td>1</td><td>1234</td><td>1</td><td>Paul:1234</td></tr>\n",
       "<tr><td>Lucie</td><td>1231</td><td>2023-04-05</td><td>Femme</td><td>1</td><td>Long</td><td>Lucie_1231</td><td>4</td><td>2023</td><td>2</td><td>1231</td><td>1</td><td>Lucie:1231</td></tr>\n",
       "<tr><td>Pierre</td><td>4567</td><td>2023-05-20</td><td>Homme</td><td>1</td><td>Long</td><td>Pierre_4567</td><td>5</td><td>2023</td><td>2</td><td>4567</td><td>4</td><td>Pierre:4567</td></tr>\n",
       "</table>\n"
      ],
      "text/plain": [
       "+------+----+----------+-----+----------------+------------+-----------+----+-----+---------+---------+--------+-----------+\n",
       "|   nom|  id|      date| sexe|valeur_constante|longueur_nom|     nom_id|mois|année|trimestre|id_absolu|id_floor|  concat_ws|\n",
       "+------+----+----------+-----+----------------+------------+-----------+----+-----+---------+---------+--------+-----------+\n",
       "|  Jean|1234|2023-01-01|Homme|               1|       Court|  Jean_1234|   1| 2023|        1|     1234|       1|  Jean:1234|\n",
       "| Marie|9876|2023-02-15|Femme|               1|        Long| Marie_9876|   2| 2023|        1|     9876|       9| Marie:9876|\n",
       "|  Paul|1234|2023-03-10|Homme|               1|       Court|  Paul_1234|   3| 2023|        1|     1234|       1|  Paul:1234|\n",
       "| Lucie|1231|2023-04-05|Femme|               1|        Long| Lucie_1231|   4| 2023|        2|     1231|       1| Lucie:1231|\n",
       "|Pierre|4567|2023-05-20|Homme|               1|        Long|Pierre_4567|   5| 2023|        2|     4567|       4|Pierre:4567|\n",
       "+------+----+----------+-----+----------------+------------+-----------+----+-----+---------+---------+--------+-----------+"
      ]
     },
     "execution_count": 8,
     "metadata": {},
     "output_type": "execute_result"
    }
   ],
   "source": [
    "# 6. `concat_ws`: Concaténer avec un séparateur\n",
    "df = df.withColumn('concat_ws', F.concat_ws(':', F.col('nom'), F.col('id')))\n",
    "df"
   ]
  },
  {
   "cell_type": "code",
   "execution_count": 9,
   "metadata": {},
   "outputs": [
    {
     "data": {
      "text/html": [
       "<table border='1'>\n",
       "<tr><th>sexe</th><th>noms</th></tr>\n",
       "<tr><td>Homme</td><td>[Jean, Paul, Pierre]</td></tr>\n",
       "<tr><td>Femme</td><td>[Marie, Lucie]</td></tr>\n",
       "</table>\n"
      ],
      "text/plain": [
       "+-----+--------------------+\n",
       "| sexe|                noms|\n",
       "+-----+--------------------+\n",
       "|Homme|[Jean, Paul, Pierre]|\n",
       "|Femme|      [Marie, Lucie]|\n",
       "+-----+--------------------+"
      ]
     },
     "execution_count": 9,
     "metadata": {},
     "output_type": "execute_result"
    }
   ],
   "source": [
    "# 7. `array_distinct`, `collect_list`, `collect_set`: Utiliser des fonctions d'agrégation sur des arrays\n",
    "df_agg = df.groupBy('sexe').agg(F.collect_list('nom').alias('noms'))\n",
    "df_agg\n"
   ]
  },
  {
   "cell_type": "code",
   "execution_count": 10,
   "metadata": {},
   "outputs": [
    {
     "data": {
      "text/html": [
       "<table border='1'>\n",
       "<tr><th>nom</th><th>id</th><th>date</th><th>sexe</th><th>valeur_constante</th><th>longueur_nom</th><th>nom_id</th><th>mois</th><th>ann&eacute;e</th><th>trimestre</th><th>id_absolu</th><th>id_floor</th><th>concat_ws</th><th>nom_nettoy&eacute;</th><th>nom_divis&eacute;</th></tr>\n",
       "<tr><td>Jean</td><td>1234</td><td>2023-01-01</td><td>Homme</td><td>1</td><td>Court</td><td>Jean_1234</td><td>1</td><td>2023</td><td>1</td><td>1234</td><td>1</td><td>Jean:1234</td><td>Jean</td><td>[J, e, a, n]</td></tr>\n",
       "<tr><td>Marie</td><td>9876</td><td>2023-02-15</td><td>Femme</td><td>1</td><td>Long</td><td>Marie_9876</td><td>2</td><td>2023</td><td>1</td><td>9876</td><td>9</td><td>Marie:9876</td><td>Marie</td><td>[M, a, r, i, e]</td></tr>\n",
       "<tr><td>Paul</td><td>1234</td><td>2023-03-10</td><td>Homme</td><td>1</td><td>Court</td><td>Paul_1234</td><td>3</td><td>2023</td><td>1</td><td>1234</td><td>1</td><td>Paul:1234</td><td>Paul</td><td>[P, a, u, l]</td></tr>\n",
       "<tr><td>Lucie</td><td>1231</td><td>2023-04-05</td><td>Femme</td><td>1</td><td>Long</td><td>Lucie_1231</td><td>4</td><td>2023</td><td>2</td><td>1231</td><td>1</td><td>Lucie:1231</td><td>Lucie</td><td>[L, u, c, i, e]</td></tr>\n",
       "<tr><td>Pierre</td><td>4567</td><td>2023-05-20</td><td>Homme</td><td>1</td><td>Long</td><td>Pierre_4567</td><td>5</td><td>2023</td><td>2</td><td>4567</td><td>4</td><td>Pierre:4567</td><td>Pierre</td><td>[P, i, e, r, r, e]</td></tr>\n",
       "</table>\n"
      ],
      "text/plain": [
       "+------+----+----------+-----+----------------+------------+-----------+----+-----+---------+---------+--------+-----------+-----------+------------------+\n",
       "|   nom|  id|      date| sexe|valeur_constante|longueur_nom|     nom_id|mois|année|trimestre|id_absolu|id_floor|  concat_ws|nom_nettoyé|        nom_divisé|\n",
       "+------+----+----------+-----+----------------+------------+-----------+----+-----+---------+---------+--------+-----------+-----------+------------------+\n",
       "|  Jean|1234|2023-01-01|Homme|               1|       Court|  Jean_1234|   1| 2023|        1|     1234|       1|  Jean:1234|       Jean|      [J, e, a, n]|\n",
       "| Marie|9876|2023-02-15|Femme|               1|        Long| Marie_9876|   2| 2023|        1|     9876|       9| Marie:9876|      Marie|   [M, a, r, i, e]|\n",
       "|  Paul|1234|2023-03-10|Homme|               1|       Court|  Paul_1234|   3| 2023|        1|     1234|       1|  Paul:1234|       Paul|      [P, a, u, l]|\n",
       "| Lucie|1231|2023-04-05|Femme|               1|        Long| Lucie_1231|   4| 2023|        2|     1231|       1| Lucie:1231|      Lucie|   [L, u, c, i, e]|\n",
       "|Pierre|4567|2023-05-20|Homme|               1|        Long|Pierre_4567|   5| 2023|        2|     4567|       4|Pierre:4567|     Pierre|[P, i, e, r, r, e]|\n",
       "+------+----+----------+-----+----------------+------------+-----------+----+-----+---------+---------+--------+-----------+-----------+------------------+"
      ]
     },
     "execution_count": 10,
     "metadata": {},
     "output_type": "execute_result"
    }
   ],
   "source": [
    "# 8. `split` et `trim`: Nettoyer et diviser des chaînes\n",
    "df = df.withColumn('nom_nettoyé', F.trim(F.col('nom'))) \\\n",
    "       .withColumn('nom_divisé', F.split(F.col('nom'), ''))\n",
    "df\n"
   ]
  },
  {
   "cell_type": "code",
   "execution_count": 11,
   "metadata": {},
   "outputs": [
    {
     "data": {
      "text/html": [
       "<table border='1'>\n",
       "<tr><th>nom</th><th>id</th><th>date</th><th>sexe</th><th>valeur_constante</th><th>longueur_nom</th><th>nom_id</th><th>mois</th><th>ann&eacute;e</th><th>trimestre</th><th>id_absolu</th><th>id_floor</th><th>concat_ws</th><th>nom_nettoy&eacute;</th><th>nom_divis&eacute;</th><th>caract&egrave;re_nom</th></tr>\n",
       "<tr><td>Jean</td><td>1234</td><td>2023-01-01</td><td>Homme</td><td>1</td><td>Court</td><td>Jean_1234</td><td>1</td><td>2023</td><td>1</td><td>1234</td><td>1</td><td>Jean:1234</td><td>Jean</td><td>[J, e, a, n]</td><td>J</td></tr>\n",
       "<tr><td>Jean</td><td>1234</td><td>2023-01-01</td><td>Homme</td><td>1</td><td>Court</td><td>Jean_1234</td><td>1</td><td>2023</td><td>1</td><td>1234</td><td>1</td><td>Jean:1234</td><td>Jean</td><td>[J, e, a, n]</td><td>e</td></tr>\n",
       "<tr><td>Jean</td><td>1234</td><td>2023-01-01</td><td>Homme</td><td>1</td><td>Court</td><td>Jean_1234</td><td>1</td><td>2023</td><td>1</td><td>1234</td><td>1</td><td>Jean:1234</td><td>Jean</td><td>[J, e, a, n]</td><td>a</td></tr>\n",
       "<tr><td>Jean</td><td>1234</td><td>2023-01-01</td><td>Homme</td><td>1</td><td>Court</td><td>Jean_1234</td><td>1</td><td>2023</td><td>1</td><td>1234</td><td>1</td><td>Jean:1234</td><td>Jean</td><td>[J, e, a, n]</td><td>n</td></tr>\n",
       "<tr><td>Marie</td><td>9876</td><td>2023-02-15</td><td>Femme</td><td>1</td><td>Long</td><td>Marie_9876</td><td>2</td><td>2023</td><td>1</td><td>9876</td><td>9</td><td>Marie:9876</td><td>Marie</td><td>[M, a, r, i, e]</td><td>M</td></tr>\n",
       "<tr><td>Marie</td><td>9876</td><td>2023-02-15</td><td>Femme</td><td>1</td><td>Long</td><td>Marie_9876</td><td>2</td><td>2023</td><td>1</td><td>9876</td><td>9</td><td>Marie:9876</td><td>Marie</td><td>[M, a, r, i, e]</td><td>a</td></tr>\n",
       "<tr><td>Marie</td><td>9876</td><td>2023-02-15</td><td>Femme</td><td>1</td><td>Long</td><td>Marie_9876</td><td>2</td><td>2023</td><td>1</td><td>9876</td><td>9</td><td>Marie:9876</td><td>Marie</td><td>[M, a, r, i, e]</td><td>r</td></tr>\n",
       "<tr><td>Marie</td><td>9876</td><td>2023-02-15</td><td>Femme</td><td>1</td><td>Long</td><td>Marie_9876</td><td>2</td><td>2023</td><td>1</td><td>9876</td><td>9</td><td>Marie:9876</td><td>Marie</td><td>[M, a, r, i, e]</td><td>i</td></tr>\n",
       "<tr><td>Marie</td><td>9876</td><td>2023-02-15</td><td>Femme</td><td>1</td><td>Long</td><td>Marie_9876</td><td>2</td><td>2023</td><td>1</td><td>9876</td><td>9</td><td>Marie:9876</td><td>Marie</td><td>[M, a, r, i, e]</td><td>e</td></tr>\n",
       "<tr><td>Paul</td><td>1234</td><td>2023-03-10</td><td>Homme</td><td>1</td><td>Court</td><td>Paul_1234</td><td>3</td><td>2023</td><td>1</td><td>1234</td><td>1</td><td>Paul:1234</td><td>Paul</td><td>[P, a, u, l]</td><td>P</td></tr>\n",
       "<tr><td>Paul</td><td>1234</td><td>2023-03-10</td><td>Homme</td><td>1</td><td>Court</td><td>Paul_1234</td><td>3</td><td>2023</td><td>1</td><td>1234</td><td>1</td><td>Paul:1234</td><td>Paul</td><td>[P, a, u, l]</td><td>a</td></tr>\n",
       "<tr><td>Paul</td><td>1234</td><td>2023-03-10</td><td>Homme</td><td>1</td><td>Court</td><td>Paul_1234</td><td>3</td><td>2023</td><td>1</td><td>1234</td><td>1</td><td>Paul:1234</td><td>Paul</td><td>[P, a, u, l]</td><td>u</td></tr>\n",
       "<tr><td>Paul</td><td>1234</td><td>2023-03-10</td><td>Homme</td><td>1</td><td>Court</td><td>Paul_1234</td><td>3</td><td>2023</td><td>1</td><td>1234</td><td>1</td><td>Paul:1234</td><td>Paul</td><td>[P, a, u, l]</td><td>l</td></tr>\n",
       "<tr><td>Lucie</td><td>1231</td><td>2023-04-05</td><td>Femme</td><td>1</td><td>Long</td><td>Lucie_1231</td><td>4</td><td>2023</td><td>2</td><td>1231</td><td>1</td><td>Lucie:1231</td><td>Lucie</td><td>[L, u, c, i, e]</td><td>L</td></tr>\n",
       "<tr><td>Lucie</td><td>1231</td><td>2023-04-05</td><td>Femme</td><td>1</td><td>Long</td><td>Lucie_1231</td><td>4</td><td>2023</td><td>2</td><td>1231</td><td>1</td><td>Lucie:1231</td><td>Lucie</td><td>[L, u, c, i, e]</td><td>u</td></tr>\n",
       "<tr><td>Lucie</td><td>1231</td><td>2023-04-05</td><td>Femme</td><td>1</td><td>Long</td><td>Lucie_1231</td><td>4</td><td>2023</td><td>2</td><td>1231</td><td>1</td><td>Lucie:1231</td><td>Lucie</td><td>[L, u, c, i, e]</td><td>c</td></tr>\n",
       "<tr><td>Lucie</td><td>1231</td><td>2023-04-05</td><td>Femme</td><td>1</td><td>Long</td><td>Lucie_1231</td><td>4</td><td>2023</td><td>2</td><td>1231</td><td>1</td><td>Lucie:1231</td><td>Lucie</td><td>[L, u, c, i, e]</td><td>i</td></tr>\n",
       "<tr><td>Lucie</td><td>1231</td><td>2023-04-05</td><td>Femme</td><td>1</td><td>Long</td><td>Lucie_1231</td><td>4</td><td>2023</td><td>2</td><td>1231</td><td>1</td><td>Lucie:1231</td><td>Lucie</td><td>[L, u, c, i, e]</td><td>e</td></tr>\n",
       "<tr><td>Pierre</td><td>4567</td><td>2023-05-20</td><td>Homme</td><td>1</td><td>Long</td><td>Pierre_4567</td><td>5</td><td>2023</td><td>2</td><td>4567</td><td>4</td><td>Pierre:4567</td><td>Pierre</td><td>[P, i, e, r, r, e]</td><td>P</td></tr>\n",
       "<tr><td>Pierre</td><td>4567</td><td>2023-05-20</td><td>Homme</td><td>1</td><td>Long</td><td>Pierre_4567</td><td>5</td><td>2023</td><td>2</td><td>4567</td><td>4</td><td>Pierre:4567</td><td>Pierre</td><td>[P, i, e, r, r, e]</td><td>i</td></tr>\n",
       "</table>\n",
       "only showing top 20 rows\n"
      ],
      "text/plain": [
       "+------+----+----------+-----+----------------+------------+-----------+----+-----+---------+---------+--------+-----------+-----------+------------------+-------------+\n",
       "|   nom|  id|      date| sexe|valeur_constante|longueur_nom|     nom_id|mois|année|trimestre|id_absolu|id_floor|  concat_ws|nom_nettoyé|        nom_divisé|caractère_nom|\n",
       "+------+----+----------+-----+----------------+------------+-----------+----+-----+---------+---------+--------+-----------+-----------+------------------+-------------+\n",
       "|  Jean|1234|2023-01-01|Homme|               1|       Court|  Jean_1234|   1| 2023|        1|     1234|       1|  Jean:1234|       Jean|      [J, e, a, n]|            J|\n",
       "|  Jean|1234|2023-01-01|Homme|               1|       Court|  Jean_1234|   1| 2023|        1|     1234|       1|  Jean:1234|       Jean|      [J, e, a, n]|            e|\n",
       "|  Jean|1234|2023-01-01|Homme|               1|       Court|  Jean_1234|   1| 2023|        1|     1234|       1|  Jean:1234|       Jean|      [J, e, a, n]|            a|\n",
       "|  Jean|1234|2023-01-01|Homme|               1|       Court|  Jean_1234|   1| 2023|        1|     1234|       1|  Jean:1234|       Jean|      [J, e, a, n]|            n|\n",
       "| Marie|9876|2023-02-15|Femme|               1|        Long| Marie_9876|   2| 2023|        1|     9876|       9| Marie:9876|      Marie|   [M, a, r, i, e]|            M|\n",
       "| Marie|9876|2023-02-15|Femme|               1|        Long| Marie_9876|   2| 2023|        1|     9876|       9| Marie:9876|      Marie|   [M, a, r, i, e]|            a|\n",
       "| Marie|9876|2023-02-15|Femme|               1|        Long| Marie_9876|   2| 2023|        1|     9876|       9| Marie:9876|      Marie|   [M, a, r, i, e]|            r|\n",
       "| Marie|9876|2023-02-15|Femme|               1|        Long| Marie_9876|   2| 2023|        1|     9876|       9| Marie:9876|      Marie|   [M, a, r, i, e]|            i|\n",
       "| Marie|9876|2023-02-15|Femme|               1|        Long| Marie_9876|   2| 2023|        1|     9876|       9| Marie:9876|      Marie|   [M, a, r, i, e]|            e|\n",
       "|  Paul|1234|2023-03-10|Homme|               1|       Court|  Paul_1234|   3| 2023|        1|     1234|       1|  Paul:1234|       Paul|      [P, a, u, l]|            P|\n",
       "|  Paul|1234|2023-03-10|Homme|               1|       Court|  Paul_1234|   3| 2023|        1|     1234|       1|  Paul:1234|       Paul|      [P, a, u, l]|            a|\n",
       "|  Paul|1234|2023-03-10|Homme|               1|       Court|  Paul_1234|   3| 2023|        1|     1234|       1|  Paul:1234|       Paul|      [P, a, u, l]|            u|\n",
       "|  Paul|1234|2023-03-10|Homme|               1|       Court|  Paul_1234|   3| 2023|        1|     1234|       1|  Paul:1234|       Paul|      [P, a, u, l]|            l|\n",
       "| Lucie|1231|2023-04-05|Femme|               1|        Long| Lucie_1231|   4| 2023|        2|     1231|       1| Lucie:1231|      Lucie|   [L, u, c, i, e]|            L|\n",
       "| Lucie|1231|2023-04-05|Femme|               1|        Long| Lucie_1231|   4| 2023|        2|     1231|       1| Lucie:1231|      Lucie|   [L, u, c, i, e]|            u|\n",
       "| Lucie|1231|2023-04-05|Femme|               1|        Long| Lucie_1231|   4| 2023|        2|     1231|       1| Lucie:1231|      Lucie|   [L, u, c, i, e]|            c|\n",
       "| Lucie|1231|2023-04-05|Femme|               1|        Long| Lucie_1231|   4| 2023|        2|     1231|       1| Lucie:1231|      Lucie|   [L, u, c, i, e]|            i|\n",
       "| Lucie|1231|2023-04-05|Femme|               1|        Long| Lucie_1231|   4| 2023|        2|     1231|       1| Lucie:1231|      Lucie|   [L, u, c, i, e]|            e|\n",
       "|Pierre|4567|2023-05-20|Homme|               1|        Long|Pierre_4567|   5| 2023|        2|     4567|       4|Pierre:4567|     Pierre|[P, i, e, r, r, e]|            P|\n",
       "|Pierre|4567|2023-05-20|Homme|               1|        Long|Pierre_4567|   5| 2023|        2|     4567|       4|Pierre:4567|     Pierre|[P, i, e, r, r, e]|            i|\n",
       "+------+----+----------+-----+----------------+------------+-----------+----+-----+---------+---------+--------+-----------+-----------+------------------+-------------+\n",
       "only showing top 20 rows"
      ]
     },
     "execution_count": 11,
     "metadata": {},
     "output_type": "execute_result"
    }
   ],
   "source": [
    "# 9. `explode`: Diviser une colonne de tableau en lignes distinctes\n",
    "df_explode = df.withColumn('caractère_nom', F.explode(F.split(F.col('nom'), '')))\n",
    "df_explode\n"
   ]
  },
  {
   "cell_type": "code",
   "execution_count": 12,
   "metadata": {},
   "outputs": [
    {
     "data": {
      "text/html": [
       "<table border='1'>\n",
       "<tr><th>nom</th><th>id</th><th>date</th><th>sexe</th><th>valeur_constante</th><th>longueur_nom</th><th>nom_id</th><th>mois</th><th>ann&eacute;e</th><th>trimestre</th><th>id_absolu</th><th>id_floor</th><th>concat_ws</th><th>nom_nettoy&eacute;</th><th>nom_divis&eacute;</th><th>nom_minuscule</th></tr>\n",
       "<tr><td>Jean</td><td>1234</td><td>2023-01-01</td><td>Homme</td><td>1</td><td>Court</td><td>Jean_1234</td><td>1</td><td>2023</td><td>1</td><td>1234</td><td>1</td><td>Jean:1234</td><td>Jean</td><td>[J, e, a, n]</td><td>jean</td></tr>\n",
       "<tr><td>Marie</td><td>9876</td><td>2023-02-15</td><td>Femme</td><td>1</td><td>Long</td><td>Marie_9876</td><td>2</td><td>2023</td><td>1</td><td>9876</td><td>9</td><td>Marie:9876</td><td>Marie</td><td>[M, a, r, i, e]</td><td>marie</td></tr>\n",
       "<tr><td>Paul</td><td>1234</td><td>2023-03-10</td><td>Homme</td><td>1</td><td>Court</td><td>Paul_1234</td><td>3</td><td>2023</td><td>1</td><td>1234</td><td>1</td><td>Paul:1234</td><td>Paul</td><td>[P, a, u, l]</td><td>paul</td></tr>\n",
       "<tr><td>Lucie</td><td>1231</td><td>2023-04-05</td><td>Femme</td><td>1</td><td>Long</td><td>Lucie_1231</td><td>4</td><td>2023</td><td>2</td><td>1231</td><td>1</td><td>Lucie:1231</td><td>Lucie</td><td>[L, u, c, i, e]</td><td>lucie</td></tr>\n",
       "<tr><td>Pierre</td><td>4567</td><td>2023-05-20</td><td>Homme</td><td>1</td><td>Long</td><td>Pierre_4567</td><td>5</td><td>2023</td><td>2</td><td>4567</td><td>4</td><td>Pierre:4567</td><td>Pierre</td><td>[P, i, e, r, r, e]</td><td>pierre</td></tr>\n",
       "</table>\n"
      ],
      "text/plain": [
       "+------+----+----------+-----+----------------+------------+-----------+----+-----+---------+---------+--------+-----------+-----------+------------------+-------------+\n",
       "|   nom|  id|      date| sexe|valeur_constante|longueur_nom|     nom_id|mois|année|trimestre|id_absolu|id_floor|  concat_ws|nom_nettoyé|        nom_divisé|nom_minuscule|\n",
       "+------+----+----------+-----+----------------+------------+-----------+----+-----+---------+---------+--------+-----------+-----------+------------------+-------------+\n",
       "|  Jean|1234|2023-01-01|Homme|               1|       Court|  Jean_1234|   1| 2023|        1|     1234|       1|  Jean:1234|       Jean|      [J, e, a, n]|         jean|\n",
       "| Marie|9876|2023-02-15|Femme|               1|        Long| Marie_9876|   2| 2023|        1|     9876|       9| Marie:9876|      Marie|   [M, a, r, i, e]|        marie|\n",
       "|  Paul|1234|2023-03-10|Homme|               1|       Court|  Paul_1234|   3| 2023|        1|     1234|       1|  Paul:1234|       Paul|      [P, a, u, l]|         paul|\n",
       "| Lucie|1231|2023-04-05|Femme|               1|        Long| Lucie_1231|   4| 2023|        2|     1231|       1| Lucie:1231|      Lucie|   [L, u, c, i, e]|        lucie|\n",
       "|Pierre|4567|2023-05-20|Homme|               1|        Long|Pierre_4567|   5| 2023|        2|     4567|       4|Pierre:4567|     Pierre|[P, i, e, r, r, e]|       pierre|\n",
       "+------+----+----------+-----+----------------+------------+-----------+----+-----+---------+---------+--------+-----------+-----------+------------------+-------------+"
      ]
     },
     "execution_count": 12,
     "metadata": {},
     "output_type": "execute_result"
    }
   ],
   "source": [
    "# 10. `lower`: Convertir des chaînes en minuscules\n",
    "df = df.withColumn('nom_minuscule', F.lower(F.col('nom')))\n",
    "df\n"
   ]
  },
  {
   "cell_type": "code",
   "execution_count": 13,
   "metadata": {},
   "outputs": [
    {
     "data": {
      "text/html": [
       "<table border='1'>\n",
       "<tr><th>nom</th><th>id</th><th>date</th></tr>\n",
       "<tr><td>Jean</td><td>1234</td><td>2023-01-01</td></tr>\n",
       "<tr><td>Marie</td><td>9876</td><td>2023-02-15</td></tr>\n",
       "<tr><td>Paul</td><td>1234</td><td>2023-03-10</td></tr>\n",
       "<tr><td>Lucie</td><td>1231</td><td>2023-04-05</td></tr>\n",
       "<tr><td>Pierre</td><td>4567</td><td>2023-05-20</td></tr>\n",
       "</table>\n"
      ],
      "text/plain": [
       "+------+----+----------+\n",
       "|   nom|  id|      date|\n",
       "+------+----+----------+\n",
       "|  Jean|1234|2023-01-01|\n",
       "| Marie|9876|2023-02-15|\n",
       "|  Paul|1234|2023-03-10|\n",
       "| Lucie|1231|2023-04-05|\n",
       "|Pierre|4567|2023-05-20|\n",
       "+------+----+----------+"
      ]
     },
     "execution_count": 13,
     "metadata": {},
     "output_type": "execute_result"
    }
   ],
   "source": [
    "# 11. `select`: Sélectionner des colonnes spécifiques\n",
    "df_select = df.select('nom', 'id', 'date')\n",
    "df_select\n"
   ]
  },
  {
   "cell_type": "code",
   "execution_count": 14,
   "metadata": {},
   "outputs": [
    {
     "data": {
      "text/html": [
       "<table border='1'>\n",
       "<tr><th>nom</th><th>id</th><th>date</th><th>sexe</th><th>valeur_constante</th><th>longueur_nom</th><th>nom_id</th><th>mois</th><th>ann&eacute;e</th><th>trimestre</th><th>id_absolu</th><th>id_floor</th><th>concat_ws</th><th>nom_nettoy&eacute;</th><th>nom_divis&eacute;</th><th>nom_minuscule</th><th>nouvelle_colonne</th></tr>\n",
       "<tr><td>Jean</td><td>1234</td><td>2023-01-01</td><td>Homme</td><td>1</td><td>Court</td><td>Jean_1234</td><td>1</td><td>2023</td><td>1</td><td>1234</td><td>1</td><td>Jean:1234</td><td>Jean</td><td>[J, e, a, n]</td><td>jean</td><td>nouvelle_valeur</td></tr>\n",
       "<tr><td>Marie</td><td>9876</td><td>2023-02-15</td><td>Femme</td><td>1</td><td>Long</td><td>Marie_9876</td><td>2</td><td>2023</td><td>1</td><td>9876</td><td>9</td><td>Marie:9876</td><td>Marie</td><td>[M, a, r, i, e]</td><td>marie</td><td>nouvelle_valeur</td></tr>\n",
       "<tr><td>Paul</td><td>1234</td><td>2023-03-10</td><td>Homme</td><td>1</td><td>Court</td><td>Paul_1234</td><td>3</td><td>2023</td><td>1</td><td>1234</td><td>1</td><td>Paul:1234</td><td>Paul</td><td>[P, a, u, l]</td><td>paul</td><td>nouvelle_valeur</td></tr>\n",
       "<tr><td>Lucie</td><td>1231</td><td>2023-04-05</td><td>Femme</td><td>1</td><td>Long</td><td>Lucie_1231</td><td>4</td><td>2023</td><td>2</td><td>1231</td><td>1</td><td>Lucie:1231</td><td>Lucie</td><td>[L, u, c, i, e]</td><td>lucie</td><td>nouvelle_valeur</td></tr>\n",
       "<tr><td>Pierre</td><td>4567</td><td>2023-05-20</td><td>Homme</td><td>1</td><td>Long</td><td>Pierre_4567</td><td>5</td><td>2023</td><td>2</td><td>4567</td><td>4</td><td>Pierre:4567</td><td>Pierre</td><td>[P, i, e, r, r, e]</td><td>pierre</td><td>nouvelle_valeur</td></tr>\n",
       "</table>\n"
      ],
      "text/plain": [
       "+------+----+----------+-----+----------------+------------+-----------+----+-----+---------+---------+--------+-----------+-----------+------------------+-------------+----------------+\n",
       "|   nom|  id|      date| sexe|valeur_constante|longueur_nom|     nom_id|mois|année|trimestre|id_absolu|id_floor|  concat_ws|nom_nettoyé|        nom_divisé|nom_minuscule|nouvelle_colonne|\n",
       "+------+----+----------+-----+----------------+------------+-----------+----+-----+---------+---------+--------+-----------+-----------+------------------+-------------+----------------+\n",
       "|  Jean|1234|2023-01-01|Homme|               1|       Court|  Jean_1234|   1| 2023|        1|     1234|       1|  Jean:1234|       Jean|      [J, e, a, n]|         jean| nouvelle_valeur|\n",
       "| Marie|9876|2023-02-15|Femme|               1|        Long| Marie_9876|   2| 2023|        1|     9876|       9| Marie:9876|      Marie|   [M, a, r, i, e]|        marie| nouvelle_valeur|\n",
       "|  Paul|1234|2023-03-10|Homme|               1|       Court|  Paul_1234|   3| 2023|        1|     1234|       1|  Paul:1234|       Paul|      [P, a, u, l]|         paul| nouvelle_valeur|\n",
       "| Lucie|1231|2023-04-05|Femme|               1|        Long| Lucie_1231|   4| 2023|        2|     1231|       1| Lucie:1231|      Lucie|   [L, u, c, i, e]|        lucie| nouvelle_valeur|\n",
       "|Pierre|4567|2023-05-20|Homme|               1|        Long|Pierre_4567|   5| 2023|        2|     4567|       4|Pierre:4567|     Pierre|[P, i, e, r, r, e]|       pierre| nouvelle_valeur|\n",
       "+------+----+----------+-----+----------------+------------+-----------+----+-----+---------+---------+--------+-----------+-----------+------------------+-------------+----------------+"
      ]
     },
     "execution_count": 14,
     "metadata": {},
     "output_type": "execute_result"
    }
   ],
   "source": [
    "# 12. `withColumn`: Créer une nouvelle colonne\n",
    "df = df.withColumn('nouvelle_colonne', F.lit('nouvelle_valeur'))\n",
    "df"
   ]
  },
  {
   "cell_type": "code",
   "execution_count": 15,
   "metadata": {},
   "outputs": [
    {
     "data": {
      "text/html": [
       "<table border='1'>\n",
       "<tr><th>nom</th><th>identifiant</th><th>date</th><th>sexe</th><th>valeur_constante</th><th>longueur_nom</th><th>nom_id</th><th>mois</th><th>ann&eacute;e</th><th>trimestre</th><th>id_absolu</th><th>id_floor</th><th>concat_ws</th><th>nom_nettoy&eacute;</th><th>nom_divis&eacute;</th><th>nom_minuscule</th><th>nouvelle_colonne</th></tr>\n",
       "<tr><td>Jean</td><td>1234</td><td>2023-01-01</td><td>Homme</td><td>1</td><td>Court</td><td>Jean_1234</td><td>1</td><td>2023</td><td>1</td><td>1234</td><td>1</td><td>Jean:1234</td><td>Jean</td><td>[J, e, a, n]</td><td>jean</td><td>nouvelle_valeur</td></tr>\n",
       "<tr><td>Marie</td><td>9876</td><td>2023-02-15</td><td>Femme</td><td>1</td><td>Long</td><td>Marie_9876</td><td>2</td><td>2023</td><td>1</td><td>9876</td><td>9</td><td>Marie:9876</td><td>Marie</td><td>[M, a, r, i, e]</td><td>marie</td><td>nouvelle_valeur</td></tr>\n",
       "<tr><td>Paul</td><td>1234</td><td>2023-03-10</td><td>Homme</td><td>1</td><td>Court</td><td>Paul_1234</td><td>3</td><td>2023</td><td>1</td><td>1234</td><td>1</td><td>Paul:1234</td><td>Paul</td><td>[P, a, u, l]</td><td>paul</td><td>nouvelle_valeur</td></tr>\n",
       "<tr><td>Lucie</td><td>1231</td><td>2023-04-05</td><td>Femme</td><td>1</td><td>Long</td><td>Lucie_1231</td><td>4</td><td>2023</td><td>2</td><td>1231</td><td>1</td><td>Lucie:1231</td><td>Lucie</td><td>[L, u, c, i, e]</td><td>lucie</td><td>nouvelle_valeur</td></tr>\n",
       "<tr><td>Pierre</td><td>4567</td><td>2023-05-20</td><td>Homme</td><td>1</td><td>Long</td><td>Pierre_4567</td><td>5</td><td>2023</td><td>2</td><td>4567</td><td>4</td><td>Pierre:4567</td><td>Pierre</td><td>[P, i, e, r, r, e]</td><td>pierre</td><td>nouvelle_valeur</td></tr>\n",
       "</table>\n"
      ],
      "text/plain": [
       "+------+-----------+----------+-----+----------------+------------+-----------+----+-----+---------+---------+--------+-----------+-----------+------------------+-------------+----------------+\n",
       "|   nom|identifiant|      date| sexe|valeur_constante|longueur_nom|     nom_id|mois|année|trimestre|id_absolu|id_floor|  concat_ws|nom_nettoyé|        nom_divisé|nom_minuscule|nouvelle_colonne|\n",
       "+------+-----------+----------+-----+----------------+------------+-----------+----+-----+---------+---------+--------+-----------+-----------+------------------+-------------+----------------+\n",
       "|  Jean|       1234|2023-01-01|Homme|               1|       Court|  Jean_1234|   1| 2023|        1|     1234|       1|  Jean:1234|       Jean|      [J, e, a, n]|         jean| nouvelle_valeur|\n",
       "| Marie|       9876|2023-02-15|Femme|               1|        Long| Marie_9876|   2| 2023|        1|     9876|       9| Marie:9876|      Marie|   [M, a, r, i, e]|        marie| nouvelle_valeur|\n",
       "|  Paul|       1234|2023-03-10|Homme|               1|       Court|  Paul_1234|   3| 2023|        1|     1234|       1|  Paul:1234|       Paul|      [P, a, u, l]|         paul| nouvelle_valeur|\n",
       "| Lucie|       1231|2023-04-05|Femme|               1|        Long| Lucie_1231|   4| 2023|        2|     1231|       1| Lucie:1231|      Lucie|   [L, u, c, i, e]|        lucie| nouvelle_valeur|\n",
       "|Pierre|       4567|2023-05-20|Homme|               1|        Long|Pierre_4567|   5| 2023|        2|     4567|       4|Pierre:4567|     Pierre|[P, i, e, r, r, e]|       pierre| nouvelle_valeur|\n",
       "+------+-----------+----------+-----+----------------+------------+-----------+----+-----+---------+---------+--------+-----------+-----------+------------------+-------------+----------------+"
      ]
     },
     "execution_count": 15,
     "metadata": {},
     "output_type": "execute_result"
    }
   ],
   "source": [
    "# 13. `withColumnRenamed`: Renommer une colonne\n",
    "df = df.withColumnRenamed('id', 'identifiant')\n",
    "df"
   ]
  },
  {
   "cell_type": "code",
   "execution_count": 16,
   "metadata": {},
   "outputs": [
    {
     "data": {
      "text/html": [
       "<table border='1'>\n",
       "<tr><th>nom</th><th>identifiant</th><th>date</th><th>sexe</th><th>valeur_constante</th><th>longueur_nom</th><th>nom_id</th><th>mois</th><th>ann&eacute;e</th><th>trimestre</th><th>id_absolu</th><th>id_floor</th><th>concat_ws</th><th>nom_nettoy&eacute;</th><th>nom_divis&eacute;</th><th>nom_minuscule</th></tr>\n",
       "<tr><td>Jean</td><td>1234</td><td>2023-01-01</td><td>Homme</td><td>1</td><td>Court</td><td>Jean_1234</td><td>1</td><td>2023</td><td>1</td><td>1234</td><td>1</td><td>Jean:1234</td><td>Jean</td><td>[J, e, a, n]</td><td>jean</td></tr>\n",
       "<tr><td>Marie</td><td>9876</td><td>2023-02-15</td><td>Femme</td><td>1</td><td>Long</td><td>Marie_9876</td><td>2</td><td>2023</td><td>1</td><td>9876</td><td>9</td><td>Marie:9876</td><td>Marie</td><td>[M, a, r, i, e]</td><td>marie</td></tr>\n",
       "<tr><td>Paul</td><td>1234</td><td>2023-03-10</td><td>Homme</td><td>1</td><td>Court</td><td>Paul_1234</td><td>3</td><td>2023</td><td>1</td><td>1234</td><td>1</td><td>Paul:1234</td><td>Paul</td><td>[P, a, u, l]</td><td>paul</td></tr>\n",
       "<tr><td>Lucie</td><td>1231</td><td>2023-04-05</td><td>Femme</td><td>1</td><td>Long</td><td>Lucie_1231</td><td>4</td><td>2023</td><td>2</td><td>1231</td><td>1</td><td>Lucie:1231</td><td>Lucie</td><td>[L, u, c, i, e]</td><td>lucie</td></tr>\n",
       "<tr><td>Pierre</td><td>4567</td><td>2023-05-20</td><td>Homme</td><td>1</td><td>Long</td><td>Pierre_4567</td><td>5</td><td>2023</td><td>2</td><td>4567</td><td>4</td><td>Pierre:4567</td><td>Pierre</td><td>[P, i, e, r, r, e]</td><td>pierre</td></tr>\n",
       "</table>\n"
      ],
      "text/plain": [
       "+------+-----------+----------+-----+----------------+------------+-----------+----+-----+---------+---------+--------+-----------+-----------+------------------+-------------+\n",
       "|   nom|identifiant|      date| sexe|valeur_constante|longueur_nom|     nom_id|mois|année|trimestre|id_absolu|id_floor|  concat_ws|nom_nettoyé|        nom_divisé|nom_minuscule|\n",
       "+------+-----------+----------+-----+----------------+------------+-----------+----+-----+---------+---------+--------+-----------+-----------+------------------+-------------+\n",
       "|  Jean|       1234|2023-01-01|Homme|               1|       Court|  Jean_1234|   1| 2023|        1|     1234|       1|  Jean:1234|       Jean|      [J, e, a, n]|         jean|\n",
       "| Marie|       9876|2023-02-15|Femme|               1|        Long| Marie_9876|   2| 2023|        1|     9876|       9| Marie:9876|      Marie|   [M, a, r, i, e]|        marie|\n",
       "|  Paul|       1234|2023-03-10|Homme|               1|       Court|  Paul_1234|   3| 2023|        1|     1234|       1|  Paul:1234|       Paul|      [P, a, u, l]|         paul|\n",
       "| Lucie|       1231|2023-04-05|Femme|               1|        Long| Lucie_1231|   4| 2023|        2|     1231|       1| Lucie:1231|      Lucie|   [L, u, c, i, e]|        lucie|\n",
       "|Pierre|       4567|2023-05-20|Homme|               1|        Long|Pierre_4567|   5| 2023|        2|     4567|       4|Pierre:4567|     Pierre|[P, i, e, r, r, e]|       pierre|\n",
       "+------+-----------+----------+-----+----------------+------------+-----------+----+-----+---------+---------+--------+-----------+-----------+------------------+-------------+"
      ]
     },
     "execution_count": 16,
     "metadata": {},
     "output_type": "execute_result"
    }
   ],
   "source": [
    "# 14. `drop`: Supprimer une colonne\n",
    "df = df.drop('nouvelle_colonne')\n",
    "df"
   ]
  },
  {
   "cell_type": "code",
   "execution_count": 17,
   "metadata": {},
   "outputs": [
    {
     "data": {
      "text/html": [
       "<table border='1'>\n",
       "<tr><th>nom</th><th>identifiant</th><th>date</th><th>sexe</th><th>valeur_constante</th><th>longueur_nom</th><th>nom_id</th><th>mois</th><th>ann&eacute;e</th><th>trimestre</th><th>id_absolu</th><th>id_floor</th><th>concat_ws</th><th>nom_nettoy&eacute;</th><th>nom_divis&eacute;</th><th>nom_minuscule</th><th>identifiant</th><th>date</th><th>sexe</th><th>valeur_constante</th><th>longueur_nom</th><th>nom_id</th><th>mois</th><th>ann&eacute;e</th><th>trimestre</th><th>id_absolu</th><th>id_floor</th><th>concat_ws</th><th>nom_nettoy&eacute;</th><th>nom_divis&eacute;</th><th>nom_minuscule</th></tr>\n",
       "<tr><td>Jean</td><td>1234</td><td>2023-01-01</td><td>Homme</td><td>1</td><td>Court</td><td>Jean_1234</td><td>1</td><td>2023</td><td>1</td><td>1234</td><td>1</td><td>Jean:1234</td><td>Jean</td><td>[J, e, a, n]</td><td>jean</td><td>1234</td><td>2023-01-01</td><td>Homme</td><td>1</td><td>Court</td><td>Jean_1234</td><td>1</td><td>2023</td><td>1</td><td>1234</td><td>1</td><td>Jean:1234</td><td>Jean</td><td>[J, e, a, n]</td><td>jean</td></tr>\n",
       "<tr><td>Lucie</td><td>1231</td><td>2023-04-05</td><td>Femme</td><td>1</td><td>Long</td><td>Lucie_1231</td><td>4</td><td>2023</td><td>2</td><td>1231</td><td>1</td><td>Lucie:1231</td><td>Lucie</td><td>[L, u, c, i, e]</td><td>lucie</td><td>1231</td><td>2023-04-05</td><td>Femme</td><td>1</td><td>Long</td><td>Lucie_1231</td><td>4</td><td>2023</td><td>2</td><td>1231</td><td>1</td><td>Lucie:1231</td><td>Lucie</td><td>[L, u, c, i, e]</td><td>lucie</td></tr>\n",
       "<tr><td>Marie</td><td>9876</td><td>2023-02-15</td><td>Femme</td><td>1</td><td>Long</td><td>Marie_9876</td><td>2</td><td>2023</td><td>1</td><td>9876</td><td>9</td><td>Marie:9876</td><td>Marie</td><td>[M, a, r, i, e]</td><td>marie</td><td>9876</td><td>2023-02-15</td><td>Femme</td><td>1</td><td>Long</td><td>Marie_9876</td><td>2</td><td>2023</td><td>1</td><td>9876</td><td>9</td><td>Marie:9876</td><td>Marie</td><td>[M, a, r, i, e]</td><td>marie</td></tr>\n",
       "<tr><td>Paul</td><td>1234</td><td>2023-03-10</td><td>Homme</td><td>1</td><td>Court</td><td>Paul_1234</td><td>3</td><td>2023</td><td>1</td><td>1234</td><td>1</td><td>Paul:1234</td><td>Paul</td><td>[P, a, u, l]</td><td>paul</td><td>1234</td><td>2023-03-10</td><td>Homme</td><td>1</td><td>Court</td><td>Paul_1234</td><td>3</td><td>2023</td><td>1</td><td>1234</td><td>1</td><td>Paul:1234</td><td>Paul</td><td>[P, a, u, l]</td><td>paul</td></tr>\n",
       "<tr><td>Pierre</td><td>4567</td><td>2023-05-20</td><td>Homme</td><td>1</td><td>Long</td><td>Pierre_4567</td><td>5</td><td>2023</td><td>2</td><td>4567</td><td>4</td><td>Pierre:4567</td><td>Pierre</td><td>[P, i, e, r, r, e]</td><td>pierre</td><td>4567</td><td>2023-05-20</td><td>Homme</td><td>1</td><td>Long</td><td>Pierre_4567</td><td>5</td><td>2023</td><td>2</td><td>4567</td><td>4</td><td>Pierre:4567</td><td>Pierre</td><td>[P, i, e, r, r, e]</td><td>pierre</td></tr>\n",
       "</table>\n"
      ],
      "text/plain": [
       "+------+-----------+----------+-----+----------------+------------+-----------+----+-----+---------+---------+--------+-----------+-----------+------------------+-------------+-----------+----------+-----+----------------+------------+-----------+----+-----+---------+---------+--------+-----------+-----------+------------------+-------------+\n",
       "|   nom|identifiant|      date| sexe|valeur_constante|longueur_nom|     nom_id|mois|année|trimestre|id_absolu|id_floor|  concat_ws|nom_nettoyé|        nom_divisé|nom_minuscule|identifiant|      date| sexe|valeur_constante|longueur_nom|     nom_id|mois|année|trimestre|id_absolu|id_floor|  concat_ws|nom_nettoyé|        nom_divisé|nom_minuscule|\n",
       "+------+-----------+----------+-----+----------------+------------+-----------+----+-----+---------+---------+--------+-----------+-----------+------------------+-------------+-----------+----------+-----+----------------+------------+-----------+----+-----+---------+---------+--------+-----------+-----------+------------------+-------------+\n",
       "|  Jean|       1234|2023-01-01|Homme|               1|       Court|  Jean_1234|   1| 2023|        1|     1234|       1|  Jean:1234|       Jean|      [J, e, a, n]|         jean|       1234|2023-01-01|Homme|               1|       Court|  Jean_1234|   1| 2023|        1|     1234|       1|  Jean:1234|       Jean|      [J, e, a, n]|         jean|\n",
       "| Lucie|       1231|2023-04-05|Femme|               1|        Long| Lucie_1231|   4| 2023|        2|     1231|       1| Lucie:1231|      Lucie|   [L, u, c, i, e]|        lucie|       1231|2023-04-05|Femme|               1|        Long| Lucie_1231|   4| 2023|        2|     1231|       1| Lucie:1231|      Lucie|   [L, u, c, i, e]|        lucie|\n",
       "| Marie|       9876|2023-02-15|Femme|               1|        Long| Marie_9876|   2| 2023|        1|     9876|       9| Marie:9876|      Marie|   [M, a, r, i, e]|        marie|       9876|2023-02-15|Femme|               1|        Long| Marie_9876|   2| 2023|        1|     9876|       9| Marie:9876|      Marie|   [M, a, r, i, e]|        marie|\n",
       "|  Paul|       1234|2023-03-10|Homme|               1|       Court|  Paul_1234|   3| 2023|        1|     1234|       1|  Paul:1234|       Paul|      [P, a, u, l]|         paul|       1234|2023-03-10|Homme|               1|       Court|  Paul_1234|   3| 2023|        1|     1234|       1|  Paul:1234|       Paul|      [P, a, u, l]|         paul|\n",
       "|Pierre|       4567|2023-05-20|Homme|               1|        Long|Pierre_4567|   5| 2023|        2|     4567|       4|Pierre:4567|     Pierre|[P, i, e, r, r, e]|       pierre|       4567|2023-05-20|Homme|               1|        Long|Pierre_4567|   5| 2023|        2|     4567|       4|Pierre:4567|     Pierre|[P, i, e, r, r, e]|       pierre|\n",
       "+------+-----------+----------+-----+----------------+------------+-----------+----+-----+---------+---------+--------+-----------+-----------+------------------+-------------+-----------+----------+-----+----------------+------------+-----------+----+-----+---------+---------+--------+-----------+-----------+------------------+-------------+"
      ]
     },
     "execution_count": 17,
     "metadata": {},
     "output_type": "execute_result"
    }
   ],
   "source": [
    "# 15. `join`: Joindre deux DataFrames (ici nous réutilisons le DataFrame lui-même pour l'exemple)\n",
    "df_join = df.join(df, on='nom', how='inner')\n",
    "df_join\n"
   ]
  },
  {
   "cell_type": "code",
   "execution_count": 18,
   "metadata": {},
   "outputs": [
    {
     "data": {
      "text/html": [
       "<table border='1'>\n",
       "<tr><th>nom</th><th>compte</th></tr>\n",
       "<tr><td>Jean</td><td>1</td></tr>\n",
       "<tr><td>Marie</td><td>1</td></tr>\n",
       "<tr><td>Paul</td><td>1</td></tr>\n",
       "<tr><td>Lucie</td><td>1</td></tr>\n",
       "<tr><td>Pierre</td><td>1</td></tr>\n",
       "</table>\n"
      ],
      "text/plain": [
       "+------+------+\n",
       "|   nom|compte|\n",
       "+------+------+\n",
       "|  Jean|     1|\n",
       "| Marie|     1|\n",
       "|  Paul|     1|\n",
       "| Lucie|     1|\n",
       "|Pierre|     1|\n",
       "+------+------+"
      ]
     },
     "execution_count": 18,
     "metadata": {},
     "output_type": "execute_result"
    }
   ],
   "source": [
    "# 16. `groupBy` et `agg`: Grouper par une colonne et appliquer une agrégation\n",
    "df_group = df.groupBy('nom').agg(F.count('identifiant').alias('compte'))\n",
    "df_group\n"
   ]
  },
  {
   "cell_type": "code",
   "execution_count": 19,
   "metadata": {},
   "outputs": [
    {
     "data": {
      "text/html": [
       "<table border='1'>\n",
       "<tr><th>nom</th><th>identifiant</th><th>date</th><th>sexe</th><th>valeur_constante</th><th>longueur_nom</th><th>nom_id</th><th>mois</th><th>ann&eacute;e</th><th>trimestre</th><th>id_absolu</th><th>id_floor</th><th>concat_ws</th><th>nom_nettoy&eacute;</th><th>nom_divis&eacute;</th><th>nom_minuscule</th></tr>\n",
       "<tr><td>Jean</td><td>1234</td><td>2023-01-01</td><td>Homme</td><td>1</td><td>Court</td><td>Jean_1234</td><td>1</td><td>2023</td><td>1</td><td>1234</td><td>1</td><td>Jean:1234</td><td>Jean</td><td>[J, e, a, n]</td><td>jean</td></tr>\n",
       "<tr><td>Marie</td><td>9876</td><td>2023-02-15</td><td>Femme</td><td>1</td><td>Long</td><td>Marie_9876</td><td>2</td><td>2023</td><td>1</td><td>9876</td><td>9</td><td>Marie:9876</td><td>Marie</td><td>[M, a, r, i, e]</td><td>marie</td></tr>\n",
       "<tr><td>Paul</td><td>1234</td><td>2023-03-10</td><td>Homme</td><td>1</td><td>Court</td><td>Paul_1234</td><td>3</td><td>2023</td><td>1</td><td>1234</td><td>1</td><td>Paul:1234</td><td>Paul</td><td>[P, a, u, l]</td><td>paul</td></tr>\n",
       "<tr><td>Lucie</td><td>1231</td><td>2023-04-05</td><td>Femme</td><td>1</td><td>Long</td><td>Lucie_1231</td><td>4</td><td>2023</td><td>2</td><td>1231</td><td>1</td><td>Lucie:1231</td><td>Lucie</td><td>[L, u, c, i, e]</td><td>lucie</td></tr>\n",
       "<tr><td>Pierre</td><td>4567</td><td>2023-05-20</td><td>Homme</td><td>1</td><td>Long</td><td>Pierre_4567</td><td>5</td><td>2023</td><td>2</td><td>4567</td><td>4</td><td>Pierre:4567</td><td>Pierre</td><td>[P, i, e, r, r, e]</td><td>pierre</td></tr>\n",
       "</table>\n"
      ],
      "text/plain": [
       "+------+-----------+----------+-----+----------------+------------+-----------+----+-----+---------+---------+--------+-----------+-----------+------------------+-------------+\n",
       "|   nom|identifiant|      date| sexe|valeur_constante|longueur_nom|     nom_id|mois|année|trimestre|id_absolu|id_floor|  concat_ws|nom_nettoyé|        nom_divisé|nom_minuscule|\n",
       "+------+-----------+----------+-----+----------------+------------+-----------+----+-----+---------+---------+--------+-----------+-----------+------------------+-------------+\n",
       "|  Jean|       1234|2023-01-01|Homme|               1|       Court|  Jean_1234|   1| 2023|        1|     1234|       1|  Jean:1234|       Jean|      [J, e, a, n]|         jean|\n",
       "| Marie|       9876|2023-02-15|Femme|               1|        Long| Marie_9876|   2| 2023|        1|     9876|       9| Marie:9876|      Marie|   [M, a, r, i, e]|        marie|\n",
       "|  Paul|       1234|2023-03-10|Homme|               1|       Court|  Paul_1234|   3| 2023|        1|     1234|       1|  Paul:1234|       Paul|      [P, a, u, l]|         paul|\n",
       "| Lucie|       1231|2023-04-05|Femme|               1|        Long| Lucie_1231|   4| 2023|        2|     1231|       1| Lucie:1231|      Lucie|   [L, u, c, i, e]|        lucie|\n",
       "|Pierre|       4567|2023-05-20|Homme|               1|        Long|Pierre_4567|   5| 2023|        2|     4567|       4|Pierre:4567|     Pierre|[P, i, e, r, r, e]|       pierre|\n",
       "+------+-----------+----------+-----+----------------+------------+-----------+----+-----+---------+---------+--------+-----------+-----------+------------------+-------------+"
      ]
     },
     "execution_count": 19,
     "metadata": {},
     "output_type": "execute_result"
    }
   ],
   "source": [
    "# 17. `drop_duplicates`: Supprimer les doublons\n",
    "df_no_double = df.dropDuplicates()\n",
    "df_no_double\n"
   ]
  },
  {
   "cell_type": "code",
   "execution_count": 20,
   "metadata": {},
   "outputs": [
    {
     "data": {
      "text/html": [
       "<table border='1'>\n",
       "<tr><th>nom</th><th>identifiant</th><th>date</th><th>sexe</th><th>valeur_constante</th><th>longueur_nom</th><th>nom_id</th><th>mois</th><th>ann&eacute;e</th><th>trimestre</th><th>id_absolu</th><th>id_floor</th><th>concat_ws</th><th>nom_nettoy&eacute;</th><th>nom_divis&eacute;</th><th>nom_minuscule</th></tr>\n",
       "<tr><td>Jean</td><td>1234</td><td>2023-01-01</td><td>Homme</td><td>1</td><td>Court</td><td>Jean_1234</td><td>1</td><td>2023</td><td>1</td><td>1234</td><td>1</td><td>Jean:1234</td><td>Jean</td><td>[J, e, a, n]</td><td>jean</td></tr>\n",
       "<tr><td>Marie</td><td>9876</td><td>2023-02-15</td><td>Femme</td><td>1</td><td>Long</td><td>Marie_9876</td><td>2</td><td>2023</td><td>1</td><td>9876</td><td>9</td><td>Marie:9876</td><td>Marie</td><td>[M, a, r, i, e]</td><td>marie</td></tr>\n",
       "<tr><td>Paul</td><td>1234</td><td>2023-03-10</td><td>Homme</td><td>1</td><td>Court</td><td>Paul_1234</td><td>3</td><td>2023</td><td>1</td><td>1234</td><td>1</td><td>Paul:1234</td><td>Paul</td><td>[P, a, u, l]</td><td>paul</td></tr>\n",
       "<tr><td>Lucie</td><td>1231</td><td>2023-04-05</td><td>Femme</td><td>1</td><td>Long</td><td>Lucie_1231</td><td>4</td><td>2023</td><td>2</td><td>1231</td><td>1</td><td>Lucie:1231</td><td>Lucie</td><td>[L, u, c, i, e]</td><td>lucie</td></tr>\n",
       "<tr><td>Pierre</td><td>4567</td><td>2023-05-20</td><td>Homme</td><td>1</td><td>Long</td><td>Pierre_4567</td><td>5</td><td>2023</td><td>2</td><td>4567</td><td>4</td><td>Pierre:4567</td><td>Pierre</td><td>[P, i, e, r, r, e]</td><td>pierre</td></tr>\n",
       "</table>\n"
      ],
      "text/plain": [
       "+------+-----------+----------+-----+----------------+------------+-----------+----+-----+---------+---------+--------+-----------+-----------+------------------+-------------+\n",
       "|   nom|identifiant|      date| sexe|valeur_constante|longueur_nom|     nom_id|mois|année|trimestre|id_absolu|id_floor|  concat_ws|nom_nettoyé|        nom_divisé|nom_minuscule|\n",
       "+------+-----------+----------+-----+----------------+------------+-----------+----+-----+---------+---------+--------+-----------+-----------+------------------+-------------+\n",
       "|  Jean|       1234|2023-01-01|Homme|               1|       Court|  Jean_1234|   1| 2023|        1|     1234|       1|  Jean:1234|       Jean|      [J, e, a, n]|         jean|\n",
       "| Marie|       9876|2023-02-15|Femme|               1|        Long| Marie_9876|   2| 2023|        1|     9876|       9| Marie:9876|      Marie|   [M, a, r, i, e]|        marie|\n",
       "|  Paul|       1234|2023-03-10|Homme|               1|       Court|  Paul_1234|   3| 2023|        1|     1234|       1|  Paul:1234|       Paul|      [P, a, u, l]|         paul|\n",
       "| Lucie|       1231|2023-04-05|Femme|               1|        Long| Lucie_1231|   4| 2023|        2|     1231|       1| Lucie:1231|      Lucie|   [L, u, c, i, e]|        lucie|\n",
       "|Pierre|       4567|2023-05-20|Homme|               1|        Long|Pierre_4567|   5| 2023|        2|     4567|       4|Pierre:4567|     Pierre|[P, i, e, r, r, e]|       pierre|\n",
       "+------+-----------+----------+-----+----------------+------------+-----------+----+-----+---------+---------+--------+-----------+-----------+------------------+-------------+"
      ]
     },
     "execution_count": 20,
     "metadata": {},
     "output_type": "execute_result"
    }
   ],
   "source": [
    "# 18. `where`/`filter`: Filtrer les lignes selon une condition\n",
    "df_filter = df.filter(F.col('id') > 1000)\n",
    "df_filter\n"
   ]
  },
  {
   "cell_type": "code",
   "execution_count": 21,
   "metadata": {},
   "outputs": [
    {
     "data": {
      "text/html": [
       "<table border='1'>\n",
       "<tr><th>nom</th><th>identifiant</th><th>date</th><th>sexe</th><th>valeur_constante</th><th>longueur_nom</th><th>nom_id</th><th>mois</th><th>ann&eacute;e</th><th>trimestre</th><th>id_absolu</th><th>id_floor</th><th>concat_ws</th><th>nom_nettoy&eacute;</th><th>nom_divis&eacute;</th><th>nom_minuscule</th><th>condition</th></tr>\n",
       "<tr><td>Jean</td><td>1234</td><td>2023-01-01</td><td>Homme</td><td>1</td><td>Court</td><td>Jean_1234</td><td>1</td><td>2023</td><td>1</td><td>1234</td><td>1</td><td>Jean:1234</td><td>Jean</td><td>[J, e, a, n]</td><td>jean</td><td>Bas</td></tr>\n",
       "<tr><td>Marie</td><td>9876</td><td>2023-02-15</td><td>Femme</td><td>1</td><td>Long</td><td>Marie_9876</td><td>2</td><td>2023</td><td>1</td><td>9876</td><td>9</td><td>Marie:9876</td><td>Marie</td><td>[M, a, r, i, e]</td><td>marie</td><td>Haut</td></tr>\n",
       "<tr><td>Paul</td><td>1234</td><td>2023-03-10</td><td>Homme</td><td>1</td><td>Court</td><td>Paul_1234</td><td>3</td><td>2023</td><td>1</td><td>1234</td><td>1</td><td>Paul:1234</td><td>Paul</td><td>[P, a, u, l]</td><td>paul</td><td>Bas</td></tr>\n",
       "<tr><td>Lucie</td><td>1231</td><td>2023-04-05</td><td>Femme</td><td>1</td><td>Long</td><td>Lucie_1231</td><td>4</td><td>2023</td><td>2</td><td>1231</td><td>1</td><td>Lucie:1231</td><td>Lucie</td><td>[L, u, c, i, e]</td><td>lucie</td><td>Bas</td></tr>\n",
       "<tr><td>Pierre</td><td>4567</td><td>2023-05-20</td><td>Homme</td><td>1</td><td>Long</td><td>Pierre_4567</td><td>5</td><td>2023</td><td>2</td><td>4567</td><td>4</td><td>Pierre:4567</td><td>Pierre</td><td>[P, i, e, r, r, e]</td><td>pierre</td><td>Haut</td></tr>\n",
       "</table>\n"
      ],
      "text/plain": [
       "+------+-----------+----------+-----+----------------+------------+-----------+----+-----+---------+---------+--------+-----------+-----------+------------------+-------------+---------+\n",
       "|   nom|identifiant|      date| sexe|valeur_constante|longueur_nom|     nom_id|mois|année|trimestre|id_absolu|id_floor|  concat_ws|nom_nettoyé|        nom_divisé|nom_minuscule|condition|\n",
       "+------+-----------+----------+-----+----------------+------------+-----------+----+-----+---------+---------+--------+-----------+-----------+------------------+-------------+---------+\n",
       "|  Jean|       1234|2023-01-01|Homme|               1|       Court|  Jean_1234|   1| 2023|        1|     1234|       1|  Jean:1234|       Jean|      [J, e, a, n]|         jean|      Bas|\n",
       "| Marie|       9876|2023-02-15|Femme|               1|        Long| Marie_9876|   2| 2023|        1|     9876|       9| Marie:9876|      Marie|   [M, a, r, i, e]|        marie|     Haut|\n",
       "|  Paul|       1234|2023-03-10|Homme|               1|       Court|  Paul_1234|   3| 2023|        1|     1234|       1|  Paul:1234|       Paul|      [P, a, u, l]|         paul|      Bas|\n",
       "| Lucie|       1231|2023-04-05|Femme|               1|        Long| Lucie_1231|   4| 2023|        2|     1231|       1| Lucie:1231|      Lucie|   [L, u, c, i, e]|        lucie|      Bas|\n",
       "|Pierre|       4567|2023-05-20|Homme|               1|        Long|Pierre_4567|   5| 2023|        2|     4567|       4|Pierre:4567|     Pierre|[P, i, e, r, r, e]|       pierre|     Haut|\n",
       "+------+-----------+----------+-----+----------------+------------+-----------+----+-----+---------+---------+--------+-----------+-----------+------------------+-------------+---------+"
      ]
     },
     "execution_count": 21,
     "metadata": {},
     "output_type": "execute_result"
    }
   ],
   "source": [
    "# 19. `when` et `otherwise`: Créer une colonne conditionnelle\n",
    "df = df.withColumn('condition', F.when(F.col('identifiant') > 2000, 'Haut').otherwise('Bas'))\n",
    "df"
   ]
  },
  {
   "cell_type": "code",
   "execution_count": 22,
   "metadata": {},
   "outputs": [
    {
     "data": {
      "text/html": [
       "<table border='1'>\n",
       "<tr><th>nom</th><th>identifiant</th><th>date</th><th>sexe</th><th>valeur_constante</th><th>longueur_nom</th><th>nom_id</th><th>mois</th><th>ann&eacute;e</th><th>trimestre</th><th>id_absolu</th><th>id_floor</th><th>concat_ws</th><th>nom_nettoy&eacute;</th><th>nom_divis&eacute;</th><th>nom_minuscule</th><th>condition</th><th>id_str</th></tr>\n",
       "<tr><td>Jean</td><td>1234</td><td>2023-01-01</td><td>Homme</td><td>1</td><td>Court</td><td>Jean_1234</td><td>1</td><td>2023</td><td>1</td><td>1234</td><td>1</td><td>Jean:1234</td><td>Jean</td><td>[J, e, a, n]</td><td>jean</td><td>Bas</td><td>1234</td></tr>\n",
       "<tr><td>Marie</td><td>9876</td><td>2023-02-15</td><td>Femme</td><td>1</td><td>Long</td><td>Marie_9876</td><td>2</td><td>2023</td><td>1</td><td>9876</td><td>9</td><td>Marie:9876</td><td>Marie</td><td>[M, a, r, i, e]</td><td>marie</td><td>Haut</td><td>9876</td></tr>\n",
       "<tr><td>Paul</td><td>1234</td><td>2023-03-10</td><td>Homme</td><td>1</td><td>Court</td><td>Paul_1234</td><td>3</td><td>2023</td><td>1</td><td>1234</td><td>1</td><td>Paul:1234</td><td>Paul</td><td>[P, a, u, l]</td><td>paul</td><td>Bas</td><td>1234</td></tr>\n",
       "<tr><td>Lucie</td><td>1231</td><td>2023-04-05</td><td>Femme</td><td>1</td><td>Long</td><td>Lucie_1231</td><td>4</td><td>2023</td><td>2</td><td>1231</td><td>1</td><td>Lucie:1231</td><td>Lucie</td><td>[L, u, c, i, e]</td><td>lucie</td><td>Bas</td><td>1231</td></tr>\n",
       "<tr><td>Pierre</td><td>4567</td><td>2023-05-20</td><td>Homme</td><td>1</td><td>Long</td><td>Pierre_4567</td><td>5</td><td>2023</td><td>2</td><td>4567</td><td>4</td><td>Pierre:4567</td><td>Pierre</td><td>[P, i, e, r, r, e]</td><td>pierre</td><td>Haut</td><td>4567</td></tr>\n",
       "</table>\n"
      ],
      "text/plain": [
       "+------+-----------+----------+-----+----------------+------------+-----------+----+-----+---------+---------+--------+-----------+-----------+------------------+-------------+---------+------+\n",
       "|   nom|identifiant|      date| sexe|valeur_constante|longueur_nom|     nom_id|mois|année|trimestre|id_absolu|id_floor|  concat_ws|nom_nettoyé|        nom_divisé|nom_minuscule|condition|id_str|\n",
       "+------+-----------+----------+-----+----------------+------------+-----------+----+-----+---------+---------+--------+-----------+-----------+------------------+-------------+---------+------+\n",
       "|  Jean|       1234|2023-01-01|Homme|               1|       Court|  Jean_1234|   1| 2023|        1|     1234|       1|  Jean:1234|       Jean|      [J, e, a, n]|         jean|      Bas|  1234|\n",
       "| Marie|       9876|2023-02-15|Femme|               1|        Long| Marie_9876|   2| 2023|        1|     9876|       9| Marie:9876|      Marie|   [M, a, r, i, e]|        marie|     Haut|  9876|\n",
       "|  Paul|       1234|2023-03-10|Homme|               1|       Court|  Paul_1234|   3| 2023|        1|     1234|       1|  Paul:1234|       Paul|      [P, a, u, l]|         paul|      Bas|  1234|\n",
       "| Lucie|       1231|2023-04-05|Femme|               1|        Long| Lucie_1231|   4| 2023|        2|     1231|       1| Lucie:1231|      Lucie|   [L, u, c, i, e]|        lucie|      Bas|  1231|\n",
       "|Pierre|       4567|2023-05-20|Homme|               1|        Long|Pierre_4567|   5| 2023|        2|     4567|       4|Pierre:4567|     Pierre|[P, i, e, r, r, e]|       pierre|     Haut|  4567|\n",
       "+------+-----------+----------+-----+----------------+------------+-----------+----+-----+---------+---------+--------+-----------+-----------+------------------+-------------+---------+------+"
      ]
     },
     "execution_count": 22,
     "metadata": {},
     "output_type": "execute_result"
    }
   ],
   "source": [
    "# 20. `astype`: Changer le type de colonne (équivalent à `cast`)\n",
    "df = df.withColumn('id_str', F.col('identifiant').cast('string'))\n",
    "df"
   ]
  },
  {
   "cell_type": "code",
   "execution_count": 23,
   "metadata": {},
   "outputs": [
    {
     "data": {
      "text/html": [
       "<table border='1'>\n",
       "<tr><th>nom</th><th>identifiant</th><th>date</th><th>sexe</th><th>valeur_constante</th><th>longueur_nom</th><th>nom_id</th><th>mois</th><th>ann&eacute;e</th><th>trimestre</th><th>id_absolu</th><th>id_floor</th><th>concat_ws</th><th>nom_nettoy&eacute;</th><th>nom_divis&eacute;</th><th>nom_minuscule</th><th>condition</th><th>id_str</th></tr>\n",
       "<tr><td>Jean</td><td>1234</td><td>2023-01-01</td><td>Homme</td><td>1</td><td>Court</td><td>Jean_1234</td><td>1</td><td>2023</td><td>1</td><td>1234</td><td>1</td><td>Jean:1234</td><td>Jean</td><td>[J, e, a, n]</td><td>jean</td><td>Bas</td><td>1234</td></tr>\n",
       "<tr><td>Marie</td><td>9876</td><td>2023-02-15</td><td>Femme</td><td>1</td><td>Long</td><td>Marie_9876</td><td>2</td><td>2023</td><td>1</td><td>9876</td><td>9</td><td>Marie:9876</td><td>Marie</td><td>[M, a, r, i, e]</td><td>marie</td><td>Haut</td><td>9876</td></tr>\n",
       "</table>\n"
      ],
      "text/plain": [
       "+-----+-----------+----------+-----+----------------+------------+----------+----+-----+---------+---------+--------+----------+-----------+---------------+-------------+---------+------+\n",
       "|  nom|identifiant|      date| sexe|valeur_constante|longueur_nom|    nom_id|mois|année|trimestre|id_absolu|id_floor| concat_ws|nom_nettoyé|     nom_divisé|nom_minuscule|condition|id_str|\n",
       "+-----+-----------+----------+-----+----------------+------------+----------+----+-----+---------+---------+--------+----------+-----------+---------------+-------------+---------+------+\n",
       "| Jean|       1234|2023-01-01|Homme|               1|       Court| Jean_1234|   1| 2023|        1|     1234|       1| Jean:1234|       Jean|   [J, e, a, n]|         jean|      Bas|  1234|\n",
       "|Marie|       9876|2023-02-15|Femme|               1|        Long|Marie_9876|   2| 2023|        1|     9876|       9|Marie:9876|      Marie|[M, a, r, i, e]|        marie|     Haut|  9876|\n",
       "+-----+-----------+----------+-----+----------------+------------+----------+----+-----+---------+---------+--------+----------+-----------+---------------+-------------+---------+------+"
      ]
     },
     "execution_count": 23,
     "metadata": {},
     "output_type": "execute_result"
    }
   ],
   "source": [
    "# 21. `isin`: Vérifier si une valeur est dans une liste\n",
    "df = df.filter(F.col('nom').isin('Jean', 'Marie'))\n",
    "df"
   ]
  },
  {
   "cell_type": "code",
   "execution_count": 24,
   "metadata": {},
   "outputs": [
    {
     "data": {
      "text/html": [
       "<table border='1'>\n",
       "<tr><th>nom</th><th>identifiant</th><th>date</th><th>sexe</th><th>valeur_constante</th><th>longueur_nom</th><th>nom_id</th><th>mois</th><th>ann&eacute;e</th><th>trimestre</th><th>id_absolu</th><th>id_floor</th><th>concat_ws</th><th>nom_nettoy&eacute;</th><th>nom_divis&eacute;</th><th>nom_minuscule</th><th>condition</th><th>id_str</th></tr>\n",
       "<tr><td>Jean</td><td>1234</td><td>2023-01-01</td><td>Homme</td><td>1</td><td>Court</td><td>Jean_1234</td><td>1</td><td>2023</td><td>1</td><td>1234</td><td>1</td><td>Jean:1234</td><td>Jean</td><td>[J, e, a, n]</td><td>jean</td><td>Bas</td><td>1234</td></tr>\n",
       "<tr><td>Marie</td><td>9876</td><td>2023-02-15</td><td>Femme</td><td>1</td><td>Long</td><td>Marie_9876</td><td>2</td><td>2023</td><td>1</td><td>9876</td><td>9</td><td>Marie:9876</td><td>Marie</td><td>[M, a, r, i, e]</td><td>marie</td><td>Haut</td><td>9876</td></tr>\n",
       "</table>\n"
      ],
      "text/plain": [
       "+-----+-----------+----------+-----+----------------+------------+----------+----+-----+---------+---------+--------+----------+-----------+---------------+-------------+---------+------+\n",
       "|  nom|identifiant|      date| sexe|valeur_constante|longueur_nom|    nom_id|mois|année|trimestre|id_absolu|id_floor| concat_ws|nom_nettoyé|     nom_divisé|nom_minuscule|condition|id_str|\n",
       "+-----+-----------+----------+-----+----------------+------------+----------+----+-----+---------+---------+--------+----------+-----------+---------------+-------------+---------+------+\n",
       "| Jean|       1234|2023-01-01|Homme|               1|       Court| Jean_1234|   1| 2023|        1|     1234|       1| Jean:1234|       Jean|   [J, e, a, n]|         jean|      Bas|  1234|\n",
       "|Marie|       9876|2023-02-15|Femme|               1|        Long|Marie_9876|   2| 2023|        1|     9876|       9|Marie:9876|      Marie|[M, a, r, i, e]|        marie|     Haut|  9876|\n",
       "+-----+-----------+----------+-----+----------------+------------+----------+----+-----+---------+---------+--------+----------+-----------+---------------+-------------+---------+------+"
      ]
     },
     "execution_count": 24,
     "metadata": {},
     "output_type": "execute_result"
    }
   ],
   "source": [
    "# 22. `lower`: Mettre des chaînes en minuscules (déjà utilisé mais réutilisé ici)\n",
    "df = df.withColumn('nom_minuscule', F.lower(F.col('nom')))\n",
    "df"
   ]
  },
  {
   "cell_type": "code",
   "execution_count": 25,
   "metadata": {},
   "outputs": [
    {
     "data": {
      "text/html": [
       "<table border='1'>\n",
       "<tr><th>nom_alias</th></tr>\n",
       "<tr><td>Jean</td></tr>\n",
       "<tr><td>Marie</td></tr>\n",
       "</table>\n"
      ],
      "text/plain": [
       "+---------+\n",
       "|nom_alias|\n",
       "+---------+\n",
       "|     Jean|\n",
       "|    Marie|\n",
       "+---------+"
      ]
     },
     "execution_count": 25,
     "metadata": {},
     "output_type": "execute_result"
    }
   ],
   "source": [
    "# 23. `alias`: Utiliser un alias pour une colonne\n",
    "df_alias = df.select(F.col('nom').alias('nom_alias'))\n",
    "df_alias\n"
   ]
  },
  {
   "cell_type": "code",
   "execution_count": 26,
   "metadata": {},
   "outputs": [
    {
     "data": {
      "text/html": [
       "<table border='1'>\n",
       "<tr><th>nom</th><th>identifiant</th><th>date</th><th>sexe</th><th>valeur_constante</th><th>longueur_nom</th><th>nom_id</th><th>mois</th><th>ann&eacute;e</th><th>trimestre</th><th>id_absolu</th><th>id_floor</th><th>concat_ws</th><th>nom_nettoy&eacute;</th><th>nom_divis&eacute;</th><th>nom_minuscule</th><th>condition</th><th>id_str</th></tr>\n",
       "<tr><td>Jean</td><td>1234</td><td>2023-01-01</td><td>Homme</td><td>1</td><td>Court</td><td>Jean_1234</td><td>1</td><td>2023</td><td>1</td><td>1234</td><td>1</td><td>Jean:1234</td><td>Jean</td><td>[J, e, a, n]</td><td>jean</td><td>Bas</td><td>1234</td></tr>\n",
       "<tr><td>Marie</td><td>9876</td><td>2023-02-15</td><td>Femme</td><td>1</td><td>Long</td><td>Marie_9876</td><td>2</td><td>2023</td><td>1</td><td>9876</td><td>9</td><td>Marie:9876</td><td>Marie</td><td>[M, a, r, i, e]</td><td>marie</td><td>Haut</td><td>9876</td></tr>\n",
       "</table>\n"
      ],
      "text/plain": [
       "+-----+-----------+----------+-----+----------------+------------+----------+----+-----+---------+---------+--------+----------+-----------+---------------+-------------+---------+------+\n",
       "|  nom|identifiant|      date| sexe|valeur_constante|longueur_nom|    nom_id|mois|année|trimestre|id_absolu|id_floor| concat_ws|nom_nettoyé|     nom_divisé|nom_minuscule|condition|id_str|\n",
       "+-----+-----------+----------+-----+----------------+------------+----------+----+-----+---------+---------+--------+----------+-----------+---------------+-------------+---------+------+\n",
       "| Jean|       1234|2023-01-01|Homme|               1|       Court| Jean_1234|   1| 2023|        1|     1234|       1| Jean:1234|       Jean|   [J, e, a, n]|         jean|      Bas|  1234|\n",
       "|Marie|       9876|2023-02-15|Femme|               1|        Long|Marie_9876|   2| 2023|        1|     9876|       9|Marie:9876|      Marie|[M, a, r, i, e]|        marie|     Haut|  9876|\n",
       "+-----+-----------+----------+-----+----------------+------------+----------+----+-----+---------+---------+--------+----------+-----------+---------------+-------------+---------+------+"
      ]
     },
     "execution_count": 26,
     "metadata": {},
     "output_type": "execute_result"
    }
   ],
   "source": [
    "# 24. `isNull` et `isNotNull`: Vérifier si une colonne est nulle ou non\n",
    "df = df.filter(F.col('nom').isNotNull())\n",
    "df"
   ]
  },
  {
   "cell_type": "code",
   "execution_count": 27,
   "metadata": {},
   "outputs": [
    {
     "data": {
      "text/html": [
       "<table border='1'>\n",
       "<tr><th>nom</th><th>identifiant</th><th>date</th><th>sexe</th><th>valeur_constante</th><th>longueur_nom</th><th>nom_id</th><th>mois</th><th>ann&eacute;e</th><th>trimestre</th><th>id_absolu</th><th>id_floor</th><th>concat_ws</th><th>nom_nettoy&eacute;</th><th>nom_divis&eacute;</th><th>nom_minuscule</th><th>condition</th><th>id_str</th></tr>\n",
       "<tr><td>Jean</td><td>1234</td><td>2023-01-01</td><td>Homme</td><td>1</td><td>Court</td><td>Jean_1234</td><td>1</td><td>2023</td><td>1</td><td>1234</td><td>1</td><td>Jean:1234</td><td>Jean</td><td>[J, e, a, n]</td><td>jean</td><td>Bas</td><td>1234</td></tr>\n",
       "</table>\n"
      ],
      "text/plain": [
       "+----+-----------+----------+-----+----------------+------------+---------+----+-----+---------+---------+--------+---------+-----------+------------+-------------+---------+------+\n",
       "| nom|identifiant|      date| sexe|valeur_constante|longueur_nom|   nom_id|mois|année|trimestre|id_absolu|id_floor|concat_ws|nom_nettoyé|  nom_divisé|nom_minuscule|condition|id_str|\n",
       "+----+-----------+----------+-----+----------------+------------+---------+----+-----+---------+---------+--------+---------+-----------+------------+-------------+---------+------+\n",
       "|Jean|       1234|2023-01-01|Homme|               1|       Court|Jean_1234|   1| 2023|        1|     1234|       1|Jean:1234|       Jean|[J, e, a, n]|         jean|      Bas|  1234|\n",
       "+----+-----------+----------+-----+----------------+------------+---------+----+-----+---------+---------+--------+---------+-----------+------------+-------------+---------+------+"
      ]
     },
     "execution_count": 27,
     "metadata": {},
     "output_type": "execute_result"
    }
   ],
   "source": [
    "# 25. `like` et `rlike`: Filtrer les chaînes avec un modèle\n",
    "df_like = df.filter(F.col('nom').like('%ean%'))\n",
    "df_like\n"
   ]
  },
  {
   "cell_type": "code",
   "execution_count": 28,
   "metadata": {},
   "outputs": [
    {
     "data": {
      "text/html": [
       "<table border='1'>\n",
       "<tr><th>nom</th><th>identifiant</th><th>date</th><th>sexe</th><th>valeur_constante</th><th>longueur_nom</th><th>nom_id</th><th>mois</th><th>ann&eacute;e</th><th>trimestre</th><th>id_absolu</th><th>id_floor</th><th>concat_ws</th><th>nom_nettoy&eacute;</th><th>nom_divis&eacute;</th><th>nom_minuscule</th><th>condition</th><th>id_str</th><th>nom_modifi&eacute;</th></tr>\n",
       "<tr><td>Jean</td><td>1234</td><td>2023-01-01</td><td>Homme</td><td>1</td><td>Court</td><td>Jean_1234</td><td>1</td><td>2023</td><td>1</td><td>1234</td><td>1</td><td>Jean:1234</td><td>Jean</td><td>[J, e, a, n]</td><td>jean</td><td>Bas</td><td>1234</td><td>Jean-Paul</td></tr>\n",
       "<tr><td>Marie</td><td>9876</td><td>2023-02-15</td><td>Femme</td><td>1</td><td>Long</td><td>Marie_9876</td><td>2</td><td>2023</td><td>1</td><td>9876</td><td>9</td><td>Marie:9876</td><td>Marie</td><td>[M, a, r, i, e]</td><td>marie</td><td>Haut</td><td>9876</td><td>Marie</td></tr>\n",
       "</table>\n"
      ],
      "text/plain": [
       "+-----+-----------+----------+-----+----------------+------------+----------+----+-----+---------+---------+--------+----------+-----------+---------------+-------------+---------+------+-----------+\n",
       "|  nom|identifiant|      date| sexe|valeur_constante|longueur_nom|    nom_id|mois|année|trimestre|id_absolu|id_floor| concat_ws|nom_nettoyé|     nom_divisé|nom_minuscule|condition|id_str|nom_modifié|\n",
       "+-----+-----------+----------+-----+----------------+------------+----------+----+-----+---------+---------+--------+----------+-----------+---------------+-------------+---------+------+-----------+\n",
       "| Jean|       1234|2023-01-01|Homme|               1|       Court| Jean_1234|   1| 2023|        1|     1234|       1| Jean:1234|       Jean|   [J, e, a, n]|         jean|      Bas|  1234|  Jean-Paul|\n",
       "|Marie|       9876|2023-02-15|Femme|               1|        Long|Marie_9876|   2| 2023|        1|     9876|       9|Marie:9876|      Marie|[M, a, r, i, e]|        marie|     Haut|  9876|      Marie|\n",
       "+-----+-----------+----------+-----+----------------+------------+----------+----+-----+---------+---------+--------+----------+-----------+---------------+-------------+---------+------+-----------+"
      ]
     },
     "execution_count": 28,
     "metadata": {},
     "output_type": "execute_result"
    }
   ],
   "source": [
    "# 26. `regexp_replace`: Remplacer des motifs dans une chaîne avec des expressions régulières\n",
    "df = df.withColumn('nom_modifié', F.regexp_replace(F.col('nom'), 'Jean', 'Jean-Paul'))\n",
    "df"
   ]
  },
  {
   "cell_type": "code",
   "execution_count": 29,
   "metadata": {},
   "outputs": [
    {
     "data": {
      "text/html": [
       "<table border='1'>\n",
       "<tr><th>nom</th><th>identifiant</th><th>date</th><th>sexe</th><th>valeur_constante</th><th>longueur_nom</th><th>nom_id</th><th>mois</th><th>ann&eacute;e</th><th>trimestre</th><th>id_absolu</th><th>id_floor</th><th>concat_ws</th><th>nom_nettoy&eacute;</th><th>nom_divis&eacute;</th><th>nom_minuscule</th><th>condition</th><th>id_str</th><th>nom_modifi&eacute;</th></tr>\n",
       "<tr><td>Jean</td><td>1234</td><td>2023-01-01</td><td>Homme</td><td>1</td><td>Court</td><td>Jean_1234</td><td>1</td><td>2023</td><td>1</td><td>1234</td><td>1</td><td>Jean:1234</td><td>Jean</td><td>[J, e, a, n]</td><td>jean</td><td>Bas</td><td>1234</td><td>Jean-Paul</td></tr>\n",
       "</table>\n"
      ],
      "text/plain": [
       "+----+-----------+----------+-----+----------------+------------+---------+----+-----+---------+---------+--------+---------+-----------+------------+-------------+---------+------+-----------+\n",
       "| nom|identifiant|      date| sexe|valeur_constante|longueur_nom|   nom_id|mois|année|trimestre|id_absolu|id_floor|concat_ws|nom_nettoyé|  nom_divisé|nom_minuscule|condition|id_str|nom_modifié|\n",
       "+----+-----------+----------+-----+----------------+------------+---------+----+-----+---------+---------+--------+---------+-----------+------------+-------------+---------+------+-----------+\n",
       "|Jean|       1234|2023-01-01|Homme|               1|       Court|Jean_1234|   1| 2023|        1|     1234|       1|Jean:1234|       Jean|[J, e, a, n]|         jean|      Bas|  1234|  Jean-Paul|\n",
       "+----+-----------+----------+-----+----------------+------------+---------+----+-----+---------+---------+--------+---------+-----------+------------+-------------+---------+------+-----------+"
      ]
     },
     "execution_count": 29,
     "metadata": {},
     "output_type": "execute_result"
    }
   ],
   "source": [
    "# 27. `str.contains`: Vérifier si une chaîne contient un motif (équivalent à `like`)\n",
    "df_contains = df.filter(F.col('nom').contains('Jean'))\n",
    "df_contains\n"
   ]
  },
  {
   "cell_type": "code",
   "execution_count": 30,
   "metadata": {},
   "outputs": [
    {
     "name": "stdout",
     "output_type": "stream",
     "text": [
      "Temps pour collect(): 5.636657238006592 seconds\n",
      "+-----+-----------+----------+-----+----------------+------------+----------+----+-----+---------+---------+--------+----------+-----------+---------------+-------------+---------+------+-----------+\n",
      "|  nom|identifiant|      date| sexe|valeur_constante|longueur_nom|    nom_id|mois|année|trimestre|id_absolu|id_floor| concat_ws|nom_nettoyé|     nom_divisé|nom_minuscule|condition|id_str|nom_modifié|\n",
      "+-----+-----------+----------+-----+----------------+------------+----------+----+-----+---------+---------+--------+----------+-----------+---------------+-------------+---------+------+-----------+\n",
      "| Jean|       1234|2023-01-01|Homme|               1|       Court| Jean_1234|   1| 2023|        1|     1234|       1| Jean:1234|       Jean|   [J, e, a, n]|         jean|      Bas|  1234|  Jean-Paul|\n",
      "|Marie|       9876|2023-02-15|Femme|               1|        Long|Marie_9876|   2| 2023|        1|     9876|       9|Marie:9876|      Marie|[M, a, r, i, e]|        marie|     Haut|  9876|      Marie|\n",
      "+-----+-----------+----------+-----+----------------+------------+----------+----+-----+---------+---------+--------+----------+-----------+---------------+-------------+---------+------+-----------+\n",
      "\n",
      "Temps pour show(): 5.567623138427734 seconds\n"
     ]
    }
   ],
   "source": [
    "# differences performances entre collect() - show()\n",
    "import time\n",
    "\n",
    "# Comparaison entre collect() et show()\n",
    "start = time.time()\n",
    "df.collect()\n",
    "end = time.time()\n",
    "print(f\"Temps pour collect(): {end - start} seconds\")\n",
    "\n",
    "start = time.time()\n",
    "df.show()\n",
    "end = time.time()\n",
    "print(f\"Temps pour show(): {end - start} seconds\")\n"
   ]
  },
  {
   "cell_type": "code",
   "execution_count": 31,
   "metadata": {},
   "outputs": [
    {
     "name": "stdout",
     "output_type": "stream",
     "text": [
      "Temps pour RDD count(): 11.384246826171875 seconds\n",
      "Temps pour DataFrame count(): 5.4931230545043945 seconds\n"
     ]
    }
   ],
   "source": [
    "# differences performances entre RDD - count()\n",
    "start = time.time()\n",
    "df_rdd_count = df.rdd.count()\n",
    "end = time.time()\n",
    "print(f\"Temps pour RDD count(): {end - start} seconds\")\n",
    "\n",
    "start = time.time()\n",
    "df_df_count = df.count()\n",
    "end = time.time()\n",
    "print(f\"Temps pour DataFrame count(): {end - start} seconds\")\n"
   ]
  },
  {
   "cell_type": "code",
   "execution_count": null,
   "metadata": {},
   "outputs": [],
   "source": []
  },
  {
   "cell_type": "code",
   "execution_count": null,
   "metadata": {},
   "outputs": [],
   "source": []
  },
  {
   "cell_type": "code",
   "execution_count": null,
   "metadata": {},
   "outputs": [],
   "source": []
  },
  {
   "cell_type": "code",
   "execution_count": null,
   "metadata": {},
   "outputs": [],
   "source": []
  }
 ],
 "metadata": {
  "kernelspec": {
   "display_name": "Python 3 (ipykernel)",
   "language": "python",
   "name": "python3"
  },
  "language_info": {
   "codemirror_mode": {
    "name": "ipython",
    "version": 3
   },
   "file_extension": ".py",
   "mimetype": "text/x-python",
   "name": "python",
   "nbconvert_exporter": "python",
   "pygments_lexer": "ipython3",
   "version": "3.9.19"
  }
 },
 "nbformat": 4,
 "nbformat_minor": 4
}
